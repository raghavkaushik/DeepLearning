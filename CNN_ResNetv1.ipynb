{
  "nbformat": 4,
  "nbformat_minor": 0,
  "metadata": {
    "colab": {
      "name": "CNN: ResNetv1.ipynb",
      "provenance": [],
      "collapsed_sections": [],
      "authorship_tag": "ABX9TyMIV2bSp0ebK+z2slm3xNoA",
      "include_colab_link": true
    },
    "kernelspec": {
      "name": "python3",
      "display_name": "Python 3"
    },
    "language_info": {
      "name": "python"
    }
  },
  "cells": [
    {
      "cell_type": "markdown",
      "metadata": {
        "id": "view-in-github",
        "colab_type": "text"
      },
      "source": [
        "<a href=\"https://colab.research.google.com/github/raghavkaushik/DeepLearning/blob/main/CNN_ResNetv1.ipynb\" target=\"_parent\"><img src=\"https://colab.research.google.com/assets/colab-badge.svg\" alt=\"Open In Colab\"/></a>"
      ]
    },
    {
      "cell_type": "markdown",
      "source": [
        "https://github.com/PacktPublishing/Advanced-Deep-Learning-with-Keras/blob/master/chapter2-deep-networks/resnet-cifar10-2.2.1.py"
      ],
      "metadata": {
        "id": "tlrJLQ1a5GN9"
      }
    },
    {
      "cell_type": "markdown",
      "source": [
        "This following program is a practice program based upon the ResNetV1 from the above mentioned Gibtub code. "
      ],
      "metadata": {
        "id": "ZitB2YLI5LKi"
      }
    },
    {
      "cell_type": "code",
      "execution_count": 1,
      "metadata": {
        "id": "cycib_knl_nd"
      },
      "outputs": [],
      "source": [
        "from tensorflow.keras.layers import Dense, Flatten, Dropout, Conv2D, BatchNormalization, GlobalMaxPooling2D, AveragePooling2D, Input, Activation, add\n",
        "from tensorflow.keras.preprocessing.image import ImageDataGenerator\n",
        "from tensorflow.keras.callbacks import ModelCheckpoint, LearningRateScheduler, ReduceLROnPlateau\n",
        "from tensorflow.keras.optimizers import Adam\n",
        "from tensorflow.keras.regularizers import l2\n",
        "from tensorflow.keras.models import Model\n",
        "import numpy as np\n",
        "import matplotlib.pyplot as plt\n",
        "from tensorflow.keras.datasets import cifar10\n",
        "from tensorflow.keras.utils import to_categorical\n",
        "import math\n",
        "import os"
      ]
    },
    {
      "cell_type": "code",
      "source": [
        "(Xtrain,Ytrain),(Xtest,Ytest)=cifar10.load_data()\n",
        "Xtrain,Xtest=Xtrain/255.0,Xtest/255.0"
      ],
      "metadata": {
        "id": "IpauZinesjG_"
      },
      "execution_count": 2,
      "outputs": []
    },
    {
      "cell_type": "code",
      "source": [
        "#We are using the ResNet20 for the following classification.\n",
        "#For version 1 the depth of the model is based upon - \n",
        "n=3\n",
        "version=1\n",
        "depth=n*6+2\n",
        "subtract_pixel_mean=True\n",
        "num_classes=10\n",
        "data_augmentation = True\n",
        "modeltype='ResNet%dv%d'%(depth,version)\n",
        "print(\"The ResNet depth and it's version:\",modeltype)"
      ],
      "metadata": {
        "id": "-vJ9RVyPsjJw",
        "colab": {
          "base_uri": "https://localhost:8080/"
        },
        "outputId": "ce01f13c-2edb-4167-e1f3-e644efbf9350"
      },
      "execution_count": 3,
      "outputs": [
        {
          "output_type": "stream",
          "name": "stdout",
          "text": [
            "The ResNet depth and it's version: ResNet20v1\n"
          ]
        }
      ]
    },
    {
      "cell_type": "code",
      "source": [
        "input_shape = Xtrain.shape[1:]\n",
        "print(\"The shape of input:\", input_shape)"
      ],
      "metadata": {
        "id": "KRApQv1JsjOW",
        "colab": {
          "base_uri": "https://localhost:8080/"
        },
        "outputId": "c8eb5988-6d5a-416b-afe3-5e92d21fe574"
      },
      "execution_count": 4,
      "outputs": [
        {
          "output_type": "stream",
          "name": "stdout",
          "text": [
            "The shape of input: (32, 32, 3)\n"
          ]
        }
      ]
    },
    {
      "cell_type": "code",
      "source": [
        "#if we subtract pixel mean(It is a process where one pixel or another image is subtracted from the image to level the image or detect changes between them):\n",
        "if subtract_pixel_mean:\n",
        "  xtrain_mean=np.mean(Xtrain,axis=0)\n",
        "  Xtrain-=xtrain_mean\n",
        "  Xtest-=xtrain_mean"
      ],
      "metadata": {
        "id": "gOquEUGzsjQ3"
      },
      "execution_count": 5,
      "outputs": []
    },
    {
      "cell_type": "code",
      "source": [
        "print('Xtrain shape:',Xtrain.shape)\n",
        "print('Train samples:',Xtrain.shape[0])\n",
        "print('Test samples:',Xtest.shape[0])\n",
        "print('Ytrain shape:',Ytrain.shape)"
      ],
      "metadata": {
        "id": "jkDBKNW8sjTN",
        "colab": {
          "base_uri": "https://localhost:8080/"
        },
        "outputId": "8831566a-2037-454a-a373-63473119cf49"
      },
      "execution_count": 6,
      "outputs": [
        {
          "output_type": "stream",
          "name": "stdout",
          "text": [
            "Xtrain shape: (50000, 32, 32, 3)\n",
            "Train samples: 50000\n",
            "Test samples: 10000\n",
            "Ytrain shape: (50000, 1)\n"
          ]
        }
      ]
    },
    {
      "cell_type": "code",
      "source": [
        "#Convert class vectors to binary class matrics:\n",
        "Ytrain=to_categorical(Ytrain,num_classes)\n",
        "Ytest=to_categorical(Ytest,num_classes)"
      ],
      "metadata": {
        "id": "c96uFaV6sjVm"
      },
      "execution_count": 7,
      "outputs": []
    },
    {
      "cell_type": "code",
      "source": [
        "#The scheduler is called automatically to reduce the learning rate after a certain number of epochs which are defined within the program. input: Epochs and Output: Lr\n",
        "#0.001 = 1e-3(number mentions the position of 1 after zeros)\n",
        "def lr_schedule(epoch):\n",
        "  lr=1e-3\n",
        "  if epoch>180:\n",
        "    lr*=0.5e-3\n",
        "  elif epoch>160:\n",
        "    lr*=1e-3\n",
        "  elif epoch>120:\n",
        "    lr*=1e-2\n",
        "  elif epoch>80:\n",
        "    lr*=1e-1\n",
        "  print(f\"Learning rate at{epoch} is {lr}\")\n",
        "  return lr\n"
      ],
      "metadata": {
        "id": "WmZh7IJXsjYI"
      },
      "execution_count": 8,
      "outputs": []
    },
    {
      "cell_type": "code",
      "source": [
        "#defining the resnet_layer function which will be used/called in residual blocks to perform convolution.\n",
        "def resnet_layer(inputs,num_filters=16,kernel_size=3, strides=1,activation='relu', batch_normalization=True, conv_first=True):\n",
        "  conv=Conv2D(num_filters,\n",
        "                  kernel_size=kernel_size,\n",
        "                  strides=strides,\n",
        "                  padding='same',\n",
        "                  kernel_initializer='he_normal',\n",
        "                  kernel_regularizer=l2(1e-4))\n",
        "  x=inputs\n",
        "  if conv_first:\n",
        "    x=conv(x)\n",
        "    if batch_normalization:\n",
        "      x=BatchNormalization()(x)\n",
        "    if activation is not None:\n",
        "      x=Activation(activation)(x)\n",
        "  else:\n",
        "    if batch_normalization:\n",
        "      x=BatchNormalization()(x)\n",
        "    if activation is not None:\n",
        "      x=Activation(activation)(x)\n",
        "    x=conv(x)\n",
        "  return x"
      ],
      "metadata": {
        "id": "FKLA7vAhsjae"
      },
      "execution_count": 9,
      "outputs": []
    },
    {
      "cell_type": "code",
      "source": [
        "def resnetv1(input_shape,depth,num_classes=10):\n",
        "  if (depth-2)%6!=0:\n",
        "    raise ValueError(\"Depth should be 6n+2(eg:20,32...\")\n",
        "  # start model definition.\n",
        "  num_filters=16\n",
        "  num_res_blocks=int((depth-2)/6)\n",
        "  inputs=Input(shape=input_shape)\n",
        "  x=resnet_layer(inputs=inputs)\n",
        "  for stack in range(3):\n",
        "    for res_block in range(num_res_blocks):\n",
        "      strides=1\n",
        "      if stack>0 and res_block==0:\n",
        "        strides=2\n",
        "      y=resnet_layer(inputs=x,\n",
        "                       num_filters=num_filters,\n",
        "                       strides=strides)\n",
        "      y=resnet_layer(inputs=y,\n",
        "                       num_filters=num_filters,\n",
        "                       activation=None)\n",
        "      if stack > 0 and res_block == 0:\n",
        "        x=resnet_layer(inputs=x,\n",
        "                       num_filters=num_filters,\n",
        "                       kernel_size=1,\n",
        "                       strides=strides,\n",
        "                       activation=None,\n",
        "                       batch_normalization=False)\n",
        "      x = add([x, y])\n",
        "      x=Activation('relu')(x)\n",
        "    num_filters*=2\n",
        "  x=AveragePooling2D(pool_size=8)(x)\n",
        "  y=GlobalMaxPooling2D()(x)\n",
        "  outputs=Dense(num_classes, activation='softmax', kernel_initializer='he_normal')(y)\n",
        "  model=Model(inputs=inputs,outputs=outputs)\n",
        "  return model"
      ],
      "metadata": {
        "id": "fcbFp6eusjcm"
      },
      "execution_count": 10,
      "outputs": []
    },
    {
      "cell_type": "code",
      "source": [
        "model=resnetv1(input_shape=input_shape, depth=depth)\n",
        "\n",
        "model.compile(loss='categorical_crossentropy',\n",
        "              optimizer=Adam(lr=lr_schedule(0)),\n",
        "              metrics=['acc'])\n",
        "\n",
        "model.summary()"
      ],
      "metadata": {
        "id": "wD7yN6V9sjeg",
        "colab": {
          "base_uri": "https://localhost:8080/"
        },
        "outputId": "94e44cf3-0c70-4b31-8b5c-49bae562e9a8"
      },
      "execution_count": 11,
      "outputs": [
        {
          "output_type": "stream",
          "name": "stdout",
          "text": [
            "Learning rate at0 is 0.001\n",
            "Model: \"model\"\n",
            "__________________________________________________________________________________________________\n",
            " Layer (type)                   Output Shape         Param #     Connected to                     \n",
            "==================================================================================================\n",
            " input_1 (InputLayer)           [(None, 32, 32, 3)]  0           []                               \n",
            "                                                                                                  \n",
            " conv2d (Conv2D)                (None, 32, 32, 16)   448         ['input_1[0][0]']                \n",
            "                                                                                                  \n",
            " batch_normalization (BatchNorm  (None, 32, 32, 16)  64          ['conv2d[0][0]']                 \n",
            " alization)                                                                                       \n",
            "                                                                                                  \n",
            " activation (Activation)        (None, 32, 32, 16)   0           ['batch_normalization[0][0]']    \n",
            "                                                                                                  \n",
            " conv2d_1 (Conv2D)              (None, 32, 32, 16)   2320        ['activation[0][0]']             \n",
            "                                                                                                  \n",
            " batch_normalization_1 (BatchNo  (None, 32, 32, 16)  64          ['conv2d_1[0][0]']               \n",
            " rmalization)                                                                                     \n",
            "                                                                                                  \n",
            " activation_1 (Activation)      (None, 32, 32, 16)   0           ['batch_normalization_1[0][0]']  \n",
            "                                                                                                  \n",
            " conv2d_2 (Conv2D)              (None, 32, 32, 16)   2320        ['activation_1[0][0]']           \n",
            "                                                                                                  \n",
            " batch_normalization_2 (BatchNo  (None, 32, 32, 16)  64          ['conv2d_2[0][0]']               \n",
            " rmalization)                                                                                     \n",
            "                                                                                                  \n",
            " add (Add)                      (None, 32, 32, 16)   0           ['activation[0][0]',             \n",
            "                                                                  'batch_normalization_2[0][0]']  \n",
            "                                                                                                  \n",
            " activation_2 (Activation)      (None, 32, 32, 16)   0           ['add[0][0]']                    \n",
            "                                                                                                  \n",
            " conv2d_3 (Conv2D)              (None, 32, 32, 16)   2320        ['activation_2[0][0]']           \n",
            "                                                                                                  \n",
            " batch_normalization_3 (BatchNo  (None, 32, 32, 16)  64          ['conv2d_3[0][0]']               \n",
            " rmalization)                                                                                     \n",
            "                                                                                                  \n",
            " activation_3 (Activation)      (None, 32, 32, 16)   0           ['batch_normalization_3[0][0]']  \n",
            "                                                                                                  \n",
            " conv2d_4 (Conv2D)              (None, 32, 32, 16)   2320        ['activation_3[0][0]']           \n",
            "                                                                                                  \n",
            " batch_normalization_4 (BatchNo  (None, 32, 32, 16)  64          ['conv2d_4[0][0]']               \n",
            " rmalization)                                                                                     \n",
            "                                                                                                  \n",
            " add_1 (Add)                    (None, 32, 32, 16)   0           ['activation_2[0][0]',           \n",
            "                                                                  'batch_normalization_4[0][0]']  \n",
            "                                                                                                  \n",
            " activation_4 (Activation)      (None, 32, 32, 16)   0           ['add_1[0][0]']                  \n",
            "                                                                                                  \n",
            " conv2d_5 (Conv2D)              (None, 32, 32, 16)   2320        ['activation_4[0][0]']           \n",
            "                                                                                                  \n",
            " batch_normalization_5 (BatchNo  (None, 32, 32, 16)  64          ['conv2d_5[0][0]']               \n",
            " rmalization)                                                                                     \n",
            "                                                                                                  \n",
            " activation_5 (Activation)      (None, 32, 32, 16)   0           ['batch_normalization_5[0][0]']  \n",
            "                                                                                                  \n",
            " conv2d_6 (Conv2D)              (None, 32, 32, 16)   2320        ['activation_5[0][0]']           \n",
            "                                                                                                  \n",
            " batch_normalization_6 (BatchNo  (None, 32, 32, 16)  64          ['conv2d_6[0][0]']               \n",
            " rmalization)                                                                                     \n",
            "                                                                                                  \n",
            " add_2 (Add)                    (None, 32, 32, 16)   0           ['activation_4[0][0]',           \n",
            "                                                                  'batch_normalization_6[0][0]']  \n",
            "                                                                                                  \n",
            " activation_6 (Activation)      (None, 32, 32, 16)   0           ['add_2[0][0]']                  \n",
            "                                                                                                  \n",
            " conv2d_7 (Conv2D)              (None, 16, 16, 32)   4640        ['activation_6[0][0]']           \n",
            "                                                                                                  \n",
            " batch_normalization_7 (BatchNo  (None, 16, 16, 32)  128         ['conv2d_7[0][0]']               \n",
            " rmalization)                                                                                     \n",
            "                                                                                                  \n",
            " activation_7 (Activation)      (None, 16, 16, 32)   0           ['batch_normalization_7[0][0]']  \n",
            "                                                                                                  \n",
            " conv2d_8 (Conv2D)              (None, 16, 16, 32)   9248        ['activation_7[0][0]']           \n",
            "                                                                                                  \n",
            " conv2d_9 (Conv2D)              (None, 16, 16, 32)   544         ['activation_6[0][0]']           \n",
            "                                                                                                  \n",
            " batch_normalization_8 (BatchNo  (None, 16, 16, 32)  128         ['conv2d_8[0][0]']               \n",
            " rmalization)                                                                                     \n",
            "                                                                                                  \n",
            " add_3 (Add)                    (None, 16, 16, 32)   0           ['conv2d_9[0][0]',               \n",
            "                                                                  'batch_normalization_8[0][0]']  \n",
            "                                                                                                  \n",
            " activation_8 (Activation)      (None, 16, 16, 32)   0           ['add_3[0][0]']                  \n",
            "                                                                                                  \n",
            " conv2d_10 (Conv2D)             (None, 16, 16, 32)   9248        ['activation_8[0][0]']           \n",
            "                                                                                                  \n",
            " batch_normalization_9 (BatchNo  (None, 16, 16, 32)  128         ['conv2d_10[0][0]']              \n",
            " rmalization)                                                                                     \n",
            "                                                                                                  \n",
            " activation_9 (Activation)      (None, 16, 16, 32)   0           ['batch_normalization_9[0][0]']  \n",
            "                                                                                                  \n",
            " conv2d_11 (Conv2D)             (None, 16, 16, 32)   9248        ['activation_9[0][0]']           \n",
            "                                                                                                  \n",
            " batch_normalization_10 (BatchN  (None, 16, 16, 32)  128         ['conv2d_11[0][0]']              \n",
            " ormalization)                                                                                    \n",
            "                                                                                                  \n",
            " add_4 (Add)                    (None, 16, 16, 32)   0           ['activation_8[0][0]',           \n",
            "                                                                  'batch_normalization_10[0][0]'] \n",
            "                                                                                                  \n",
            " activation_10 (Activation)     (None, 16, 16, 32)   0           ['add_4[0][0]']                  \n",
            "                                                                                                  \n",
            " conv2d_12 (Conv2D)             (None, 16, 16, 32)   9248        ['activation_10[0][0]']          \n",
            "                                                                                                  \n",
            " batch_normalization_11 (BatchN  (None, 16, 16, 32)  128         ['conv2d_12[0][0]']              \n",
            " ormalization)                                                                                    \n",
            "                                                                                                  \n",
            " activation_11 (Activation)     (None, 16, 16, 32)   0           ['batch_normalization_11[0][0]'] \n",
            "                                                                                                  \n",
            " conv2d_13 (Conv2D)             (None, 16, 16, 32)   9248        ['activation_11[0][0]']          \n",
            "                                                                                                  \n",
            " batch_normalization_12 (BatchN  (None, 16, 16, 32)  128         ['conv2d_13[0][0]']              \n",
            " ormalization)                                                                                    \n",
            "                                                                                                  \n",
            " add_5 (Add)                    (None, 16, 16, 32)   0           ['activation_10[0][0]',          \n",
            "                                                                  'batch_normalization_12[0][0]'] \n",
            "                                                                                                  \n",
            " activation_12 (Activation)     (None, 16, 16, 32)   0           ['add_5[0][0]']                  \n",
            "                                                                                                  \n",
            " conv2d_14 (Conv2D)             (None, 8, 8, 64)     18496       ['activation_12[0][0]']          \n",
            "                                                                                                  \n",
            " batch_normalization_13 (BatchN  (None, 8, 8, 64)    256         ['conv2d_14[0][0]']              \n",
            " ormalization)                                                                                    \n",
            "                                                                                                  \n",
            " activation_13 (Activation)     (None, 8, 8, 64)     0           ['batch_normalization_13[0][0]'] \n",
            "                                                                                                  \n",
            " conv2d_15 (Conv2D)             (None, 8, 8, 64)     36928       ['activation_13[0][0]']          \n",
            "                                                                                                  \n",
            " conv2d_16 (Conv2D)             (None, 8, 8, 64)     2112        ['activation_12[0][0]']          \n",
            "                                                                                                  \n",
            " batch_normalization_14 (BatchN  (None, 8, 8, 64)    256         ['conv2d_15[0][0]']              \n",
            " ormalization)                                                                                    \n",
            "                                                                                                  \n",
            " add_6 (Add)                    (None, 8, 8, 64)     0           ['conv2d_16[0][0]',              \n",
            "                                                                  'batch_normalization_14[0][0]'] \n",
            "                                                                                                  \n",
            " activation_14 (Activation)     (None, 8, 8, 64)     0           ['add_6[0][0]']                  \n",
            "                                                                                                  \n",
            " conv2d_17 (Conv2D)             (None, 8, 8, 64)     36928       ['activation_14[0][0]']          \n",
            "                                                                                                  \n",
            " batch_normalization_15 (BatchN  (None, 8, 8, 64)    256         ['conv2d_17[0][0]']              \n",
            " ormalization)                                                                                    \n",
            "                                                                                                  \n",
            " activation_15 (Activation)     (None, 8, 8, 64)     0           ['batch_normalization_15[0][0]'] \n",
            "                                                                                                  \n",
            " conv2d_18 (Conv2D)             (None, 8, 8, 64)     36928       ['activation_15[0][0]']          \n",
            "                                                                                                  \n",
            " batch_normalization_16 (BatchN  (None, 8, 8, 64)    256         ['conv2d_18[0][0]']              \n",
            " ormalization)                                                                                    \n",
            "                                                                                                  \n",
            " add_7 (Add)                    (None, 8, 8, 64)     0           ['activation_14[0][0]',          \n",
            "                                                                  'batch_normalization_16[0][0]'] \n",
            "                                                                                                  \n",
            " activation_16 (Activation)     (None, 8, 8, 64)     0           ['add_7[0][0]']                  \n",
            "                                                                                                  \n",
            " conv2d_19 (Conv2D)             (None, 8, 8, 64)     36928       ['activation_16[0][0]']          \n",
            "                                                                                                  \n",
            " batch_normalization_17 (BatchN  (None, 8, 8, 64)    256         ['conv2d_19[0][0]']              \n",
            " ormalization)                                                                                    \n",
            "                                                                                                  \n",
            " activation_17 (Activation)     (None, 8, 8, 64)     0           ['batch_normalization_17[0][0]'] \n",
            "                                                                                                  \n",
            " conv2d_20 (Conv2D)             (None, 8, 8, 64)     36928       ['activation_17[0][0]']          \n",
            "                                                                                                  \n",
            " batch_normalization_18 (BatchN  (None, 8, 8, 64)    256         ['conv2d_20[0][0]']              \n",
            " ormalization)                                                                                    \n",
            "                                                                                                  \n",
            " add_8 (Add)                    (None, 8, 8, 64)     0           ['activation_16[0][0]',          \n",
            "                                                                  'batch_normalization_18[0][0]'] \n",
            "                                                                                                  \n",
            " activation_18 (Activation)     (None, 8, 8, 64)     0           ['add_8[0][0]']                  \n",
            "                                                                                                  \n",
            " average_pooling2d (AveragePool  (None, 1, 1, 64)    0           ['activation_18[0][0]']          \n",
            " ing2D)                                                                                           \n",
            "                                                                                                  \n",
            " global_max_pooling2d (GlobalMa  (None, 64)          0           ['average_pooling2d[0][0]']      \n",
            " xPooling2D)                                                                                      \n",
            "                                                                                                  \n",
            " dense (Dense)                  (None, 10)           650         ['global_max_pooling2d[0][0]']   \n",
            "                                                                                                  \n",
            "==================================================================================================\n",
            "Total params: 274,442\n",
            "Trainable params: 273,066\n",
            "Non-trainable params: 1,376\n",
            "__________________________________________________________________________________________________\n"
          ]
        },
        {
          "output_type": "stream",
          "name": "stderr",
          "text": [
            "/usr/local/lib/python3.7/dist-packages/keras/optimizer_v2/adam.py:105: UserWarning: The `lr` argument is deprecated, use `learning_rate` instead.\n",
            "  super(Adam, self).__init__(name, **kwargs)\n"
          ]
        }
      ]
    },
    {
      "cell_type": "code",
      "source": [
        "save_dir = os.path.join(os.getcwd(), 'saved_models')\n",
        "model_name = 'cifar10_%s_model.{epoch:03d}.h5' \n",
        "if not os.path.isdir(save_dir):\n",
        "    os.makedirs(save_dir)\n",
        "filepath = os.path.join(save_dir, model_name)\n",
        "checkpoint = ModelCheckpoint(filepath=filepath,\n",
        "                             monitor='val_acc',\n",
        "                             verbose=1,\n",
        "                             save_best_only=True)\n",
        "\n",
        "lr_scheduler=LearningRateScheduler(lr_schedule)\n",
        "lr_reducer=ReduceLROnPlateau(factor=np.sqrt(0.1), cooldown=0, patience=5, min_lr=0.5e-6)\n",
        "callbacks = [checkpoint,lr_reducer, lr_scheduler]"
      ],
      "metadata": {
        "id": "KpmM7q4QCbP4"
      },
      "execution_count": 15,
      "outputs": []
    },
    {
      "cell_type": "code",
      "source": [
        "if not data_augmentation:\n",
        "  model.fit(Xtrain,Ytrain, batch_size=32, epochs=200, validation_data=(Xtest,Ytest), shuffle=True, callbacks=callbacks)\n",
        "else:\n",
        "  print(\"Using real-time data-augmentation\")\n",
        "  datagen=ImageDataGenerator(# set input mean to 0 over the dataset\n",
        "        featurewise_center=False,\n",
        "        # set each sample mean to 0\n",
        "        samplewise_center=False,\n",
        "        # divide inputs by std of dataset\n",
        "        featurewise_std_normalization=False,\n",
        "        # divide each input by its std\n",
        "        samplewise_std_normalization=False,\n",
        "        # apply ZCA whitening\n",
        "        zca_whitening=False,\n",
        "        # randomly rotate images in the range (deg 0 to 180)\n",
        "        rotation_range=0,\n",
        "        # randomly shift images horizontally\n",
        "        width_shift_range=0.1,\n",
        "        # randomly shift images vertically\n",
        "        height_shift_range=0.1,\n",
        "        # randomly flip images\n",
        "        horizontal_flip=True,\n",
        "        # randomly flip images\n",
        "        vertical_flip=False)\n",
        "  datagen.fit(Xtrain)\n",
        "  steps_per_epochs=math.ceil(len(Xtrain)/32)\n",
        "  model.fit(x=datagen.flow(Xtrain, Ytrain, batch_size=32),\n",
        "              verbose=1,\n",
        "              epochs=200,\n",
        "              validation_data=(Xtest, Ytest),\n",
        "              steps_per_epoch=steps_per_epochs,\n",
        "              callbacks=callbacks)"
      ],
      "metadata": {
        "colab": {
          "base_uri": "https://localhost:8080/"
        },
        "id": "K9PfCp0eCbR8",
        "outputId": "c5e7d7e6-a70a-4626-d321-2a70e7332752"
      },
      "execution_count": null,
      "outputs": [
        {
          "output_type": "stream",
          "name": "stdout",
          "text": [
            "Using real-time data-augmentation\n",
            "Learning rate at0 is 0.001\n",
            "Epoch 1/200\n",
            "1563/1563 [==============================] - ETA: 0s - loss: 1.5816 - acc: 0.4822\n",
            "Epoch 00001: val_acc improved from -inf to 0.52330, saving model to /content/saved_models/cifar10_%s_model.001.h5\n"
          ]
        },
        {
          "output_type": "stream",
          "name": "stderr",
          "text": [
            "/usr/local/lib/python3.7/dist-packages/keras/engine/functional.py:1410: CustomMaskWarning: Custom mask layers require a config and must override get_config. When loading, the custom mask layer must be passed to the custom_objects argument.\n",
            "  layer_config = serialize_layer_fn(layer)\n"
          ]
        },
        {
          "output_type": "stream",
          "name": "stdout",
          "text": [
            "\b\b\b\b\b\b\b\b\b\b\b\b\b\b\b\b\b\b\b\b\b\b\b\b\b\b\b\b\b\b\b\b\b\b\b\b\b\b\b\b\b\b\b\b\b\b\b\b\b\b\b\b\b\b\b\b\b\b\b\b\b\b\b\b\b\b\b\b\b\b\b\b\b\b\b\b\b\b\b\b\b\r1563/1563 [==============================] - 724s 462ms/step - loss: 1.5816 - acc: 0.4822 - val_loss: 1.5252 - val_acc: 0.5233 - lr: 0.0010\n",
            "Learning rate at1 is 0.001\n",
            "Epoch 2/200\n",
            " 759/1563 [=============>................] - ETA: 6:07 - loss: 1.2546 - acc: 0.6084"
          ]
        }
      ]
    },
    {
      "cell_type": "code",
      "source": [
        "scores = model.evaluate(x_test,\n",
        "                        y_test,\n",
        "                        batch_size=batch_size,\n",
        "                        verbose=0)\n",
        "print('Test loss:', scores[0])\n",
        "print('Test accuracy:', scores[1])"
      ],
      "metadata": {
        "id": "fGg1ybY-CbUw"
      },
      "execution_count": null,
      "outputs": []
    }
  ]
}