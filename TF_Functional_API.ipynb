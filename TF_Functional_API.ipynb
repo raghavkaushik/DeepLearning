{
  "nbformat": 4,
  "nbformat_minor": 0,
  "metadata": {
    "colab": {
      "name": "TF:Functional API.ipynb",
      "provenance": [],
      "collapsed_sections": [],
      "authorship_tag": "ABX9TyOdboyZz8qbdbBzmbqAp3vc",
      "include_colab_link": true
    },
    "kernelspec": {
      "name": "python3",
      "display_name": "Python 3"
    },
    "language_info": {
      "name": "python"
    }
  },
  "cells": [
    {
      "cell_type": "markdown",
      "metadata": {
        "id": "view-in-github",
        "colab_type": "text"
      },
      "source": [
        "<a href=\"https://colab.research.google.com/github/raghavkaushik/DeepLearning/blob/main/TF_Functional_API.ipynb\" target=\"_parent\"><img src=\"https://colab.research.google.com/assets/colab-badge.svg\" alt=\"Open In Colab\"/></a>"
      ]
    },
    {
      "cell_type": "code",
      "execution_count": 16,
      "metadata": {
        "id": "IaP2O4IsjDPD"
      },
      "outputs": [],
      "source": [
        "from tensorflow.keras.layers import Dense, Dropout, Conv2D, GlobalMaxPooling2D, Input, MaxPooling2D\n",
        "from tensorflow.keras.models import Model\n",
        "from tensorflow.keras.datasets import mnist\n",
        "import matplotlib.pyplot as plt\n",
        "import numpy as np "
      ]
    },
    {
      "cell_type": "code",
      "source": [
        "(Xtrain,Ytrain),(Xtest,Ytest)=mnist.load_data()"
      ],
      "metadata": {
        "id": "gnBXDBhtD7pQ"
      },
      "execution_count": 7,
      "outputs": []
    },
    {
      "cell_type": "code",
      "source": [
        "num_labels=len(np.unique(Ytrain))\n",
        "print(\"Number of labels:\",num_labels)"
      ],
      "metadata": {
        "colab": {
          "base_uri": "https://localhost:8080/"
        },
        "id": "nFNBoQwnEGnm",
        "outputId": "bfdb344c-2b68-4a4b-e091-cb46ef8798f9"
      },
      "execution_count": 8,
      "outputs": [
        {
          "output_type": "stream",
          "name": "stdout",
          "text": [
            "Number of labels: 10\n"
          ]
        }
      ]
    },
    {
      "cell_type": "code",
      "source": [
        "Xtrain,Xtest=Xtrain/255.0,Xtest/255.0"
      ],
      "metadata": {
        "id": "M4P--ZezENrG"
      },
      "execution_count": 9,
      "outputs": []
    },
    {
      "cell_type": "code",
      "source": [
        "Xtrain=np.expand_dims(Xtrain,-1)\n",
        "Xtest=np.expand_dims(Xtest,-1)"
      ],
      "metadata": {
        "id": "FYI61g0mEnHu"
      },
      "execution_count": 12,
      "outputs": []
    },
    {
      "cell_type": "code",
      "source": [
        "input_shape=Xtrain[0].shape\n",
        "print(input_shape)"
      ],
      "metadata": {
        "colab": {
          "base_uri": "https://localhost:8080/"
        },
        "id": "M-ngXASqEpOu",
        "outputId": "38ca42ac-a051-4fab-8f07-03e0b2a7fb9e"
      },
      "execution_count": 15,
      "outputs": [
        {
          "output_type": "stream",
          "name": "stdout",
          "text": [
            "(28, 28, 1)\n"
          ]
        }
      ]
    },
    {
      "cell_type": "code",
      "source": [
        "input=Input(shape=input_shape)\n",
        "x=Conv2D(64,(3,3),activation='relu')(input)\n",
        "x=MaxPooling2D()(x)\n",
        "x=Conv2D(64,(3,3),activation='relu')(x)\n",
        "x=MaxPooling2D()(x)\n",
        "x=Conv2D(64,(3,3),activation='relu')(x)\n",
        "x=GlobalMaxPooling2D()(x)\n",
        "x=Dropout(0.2)(x)\n",
        "output=Dense(num_labels,activation='softmax')(x)\n",
        "\n",
        "model=Model(input,output)\n",
        "model.summary()"
      ],
      "metadata": {
        "colab": {
          "base_uri": "https://localhost:8080/"
        },
        "id": "nHFGaJiCFX_f",
        "outputId": "9b1e1d44-3337-44dd-e9bd-33d10b983091"
      },
      "execution_count": 19,
      "outputs": [
        {
          "output_type": "stream",
          "name": "stdout",
          "text": [
            "Model: \"model\"\n",
            "_________________________________________________________________\n",
            " Layer (type)                Output Shape              Param #   \n",
            "=================================================================\n",
            " input_1 (InputLayer)        [(None, 28, 28, 1)]       0         \n",
            "                                                                 \n",
            " conv2d (Conv2D)             (None, 26, 26, 64)        640       \n",
            "                                                                 \n",
            " max_pooling2d (MaxPooling2D  (None, 13, 13, 64)       0         \n",
            " )                                                               \n",
            "                                                                 \n",
            " conv2d_1 (Conv2D)           (None, 11, 11, 64)        36928     \n",
            "                                                                 \n",
            " max_pooling2d_1 (MaxPooling  (None, 5, 5, 64)         0         \n",
            " 2D)                                                             \n",
            "                                                                 \n",
            " conv2d_2 (Conv2D)           (None, 3, 3, 64)          36928     \n",
            "                                                                 \n",
            " global_max_pooling2d (Globa  (None, 64)               0         \n",
            " lMaxPooling2D)                                                  \n",
            "                                                                 \n",
            " dropout (Dropout)           (None, 64)                0         \n",
            "                                                                 \n",
            " dense (Dense)               (None, 10)                650       \n",
            "                                                                 \n",
            "=================================================================\n",
            "Total params: 75,146\n",
            "Trainable params: 75,146\n",
            "Non-trainable params: 0\n",
            "_________________________________________________________________\n"
          ]
        }
      ]
    },
    {
      "cell_type": "code",
      "source": [
        "model.compile(optimizer='adam',\n",
        "              loss='sparse_categorical_crossentropy',\n",
        "              metrics=['accuracy'])"
      ],
      "metadata": {
        "id": "IIjoflmpGZcg"
      },
      "execution_count": 20,
      "outputs": []
    },
    {
      "cell_type": "code",
      "source": [
        "r=model.fit(Xtrain,Ytrain,validation_data=(Xtest,Ytest),epochs=20, batch_size=128)"
      ],
      "metadata": {
        "colab": {
          "base_uri": "https://localhost:8080/"
        },
        "id": "HcXqhqUCGu8n",
        "outputId": "fc6963e0-a110-4606-a27a-4814de84781a"
      },
      "execution_count": 21,
      "outputs": [
        {
          "output_type": "stream",
          "name": "stdout",
          "text": [
            "Epoch 1/20\n",
            "469/469 [==============================] - 77s 163ms/step - loss: 0.4057 - accuracy: 0.8756 - val_loss: 0.0931 - val_accuracy: 0.9693\n",
            "Epoch 2/20\n",
            "469/469 [==============================] - 76s 163ms/step - loss: 0.1221 - accuracy: 0.9634 - val_loss: 0.0564 - val_accuracy: 0.9829\n",
            "Epoch 3/20\n",
            "469/469 [==============================] - 76s 162ms/step - loss: 0.0864 - accuracy: 0.9730 - val_loss: 0.0410 - val_accuracy: 0.9877\n",
            "Epoch 4/20\n",
            "469/469 [==============================] - 76s 162ms/step - loss: 0.0666 - accuracy: 0.9797 - val_loss: 0.0420 - val_accuracy: 0.9877\n",
            "Epoch 5/20\n",
            "469/469 [==============================] - 76s 162ms/step - loss: 0.0585 - accuracy: 0.9822 - val_loss: 0.0426 - val_accuracy: 0.9867\n",
            "Epoch 6/20\n",
            "469/469 [==============================] - 76s 162ms/step - loss: 0.0490 - accuracy: 0.9846 - val_loss: 0.0298 - val_accuracy: 0.9901\n",
            "Epoch 7/20\n",
            "469/469 [==============================] - 76s 162ms/step - loss: 0.0407 - accuracy: 0.9864 - val_loss: 0.0340 - val_accuracy: 0.9895\n",
            "Epoch 8/20\n",
            "469/469 [==============================] - 76s 162ms/step - loss: 0.0379 - accuracy: 0.9880 - val_loss: 0.0291 - val_accuracy: 0.9910\n",
            "Epoch 9/20\n",
            "469/469 [==============================] - 76s 161ms/step - loss: 0.0343 - accuracy: 0.9892 - val_loss: 0.0271 - val_accuracy: 0.9928\n",
            "Epoch 10/20\n",
            "469/469 [==============================] - 76s 161ms/step - loss: 0.0313 - accuracy: 0.9899 - val_loss: 0.0317 - val_accuracy: 0.9910\n",
            "Epoch 11/20\n",
            "469/469 [==============================] - 76s 161ms/step - loss: 0.0293 - accuracy: 0.9902 - val_loss: 0.0302 - val_accuracy: 0.9905\n",
            "Epoch 12/20\n",
            "469/469 [==============================] - 76s 162ms/step - loss: 0.0272 - accuracy: 0.9914 - val_loss: 0.0308 - val_accuracy: 0.9906\n",
            "Epoch 13/20\n",
            "469/469 [==============================] - 75s 161ms/step - loss: 0.0240 - accuracy: 0.9924 - val_loss: 0.0301 - val_accuracy: 0.9918\n",
            "Epoch 14/20\n",
            "469/469 [==============================] - 76s 161ms/step - loss: 0.0217 - accuracy: 0.9928 - val_loss: 0.0283 - val_accuracy: 0.9919\n",
            "Epoch 15/20\n",
            "469/469 [==============================] - 76s 162ms/step - loss: 0.0207 - accuracy: 0.9931 - val_loss: 0.0258 - val_accuracy: 0.9925\n",
            "Epoch 16/20\n",
            "469/469 [==============================] - 76s 162ms/step - loss: 0.0189 - accuracy: 0.9940 - val_loss: 0.0316 - val_accuracy: 0.9912\n",
            "Epoch 17/20\n",
            "469/469 [==============================] - 76s 161ms/step - loss: 0.0183 - accuracy: 0.9944 - val_loss: 0.0281 - val_accuracy: 0.9915\n",
            "Epoch 18/20\n",
            "469/469 [==============================] - 76s 161ms/step - loss: 0.0160 - accuracy: 0.9947 - val_loss: 0.0313 - val_accuracy: 0.9919\n",
            "Epoch 19/20\n",
            "469/469 [==============================] - 76s 161ms/step - loss: 0.0138 - accuracy: 0.9955 - val_loss: 0.0297 - val_accuracy: 0.9922\n",
            "Epoch 20/20\n",
            "469/469 [==============================] - 76s 162ms/step - loss: 0.0158 - accuracy: 0.9948 - val_loss: 0.0309 - val_accuracy: 0.9912\n"
          ]
        }
      ]
    },
    {
      "cell_type": "code",
      "source": [
        "score = model.evaluate(Xtest,\n",
        "                       Ytest,\n",
        "                       batch_size=128,\n",
        "                       verbose=0)\n",
        "print(\"\\nTest accuracy: %.1f%%\" % (100.0 * score[1]))"
      ],
      "metadata": {
        "colab": {
          "base_uri": "https://localhost:8080/"
        },
        "id": "0BEYzK7BG6xf",
        "outputId": "1e455f78-365d-4c3c-b7d4-dadfb2198628"
      },
      "execution_count": 24,
      "outputs": [
        {
          "output_type": "stream",
          "name": "stdout",
          "text": [
            "\n",
            "Test accuracy: 99.1%\n"
          ]
        }
      ]
    },
    {
      "cell_type": "code",
      "source": [
        "plt.plot(r.history['accuracy'], label='accuracy')\n",
        "plt.plot(r.history['val_accuracy'], label='val_accuracy')\n",
        "plt.legend()"
      ],
      "metadata": {
        "colab": {
          "base_uri": "https://localhost:8080/",
          "height": 284
        },
        "id": "nhXNGURUG9ke",
        "outputId": "2532d85d-6ba1-4e2b-c3ba-a18b3ee418e9"
      },
      "execution_count": 25,
      "outputs": [
        {
          "output_type": "execute_result",
          "data": {
            "text/plain": [
              "<matplotlib.legend.Legend at 0x7f481571e650>"
            ]
          },
          "metadata": {},
          "execution_count": 25
        },
        {
          "output_type": "display_data",
          "data": {
            "image/png": "[encoded data removed]",
            "text/plain": [
              "<Figure size 432x288 with 1 Axes>"
            ]
          },
          "metadata": {
            "needs_background": "light"
          }
        }
      ]
    },
    {
      "cell_type": "code",
      "source": [
        ""
      ],
      "metadata": {
        "id": "mvk97hjUHILH"
      },
      "execution_count": null,
      "outputs": []
    }
  ]
}