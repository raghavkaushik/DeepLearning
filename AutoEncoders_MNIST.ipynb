{
  "nbformat": 4,
  "nbformat_minor": 0,
  "metadata": {
    "colab": {
      "name": "AutoEncoders:MNIST.ipynb",
      "provenance": [],
      "collapsed_sections": [],
      "authorship_tag": "ABX9TyMV7y+8E7pi2GFrVSWzY1by",
      "include_colab_link": true
    },
    "kernelspec": {
      "name": "python3",
      "display_name": "Python 3"
    },
    "language_info": {
      "name": "python"
    }
  },
  "cells": [
    {
      "cell_type": "markdown",
      "metadata": {
        "id": "view-in-github",
        "colab_type": "text"
      },
      "source": [
        "<a href=\"https://colab.research.google.com/github/raghavkaushik/DeepLearning/blob/main/AutoEncoders_MNIST.ipynb\" target=\"_parent\"><img src=\"https://colab.research.google.com/assets/colab-badge.svg\" alt=\"Open In Colab\"/></a>"
      ]
    },
    {
      "cell_type": "code",
      "execution_count": 11,
      "metadata": {
        "id": "A10gmMDIEP6i"
      },
      "outputs": [],
      "source": [
        "from tensorflow.keras.layers import Dense, Dropout, Conv2D, GlobalMaxPooling2D, Flatten, Input, Reshape, Conv2DTranspose\n",
        "from tensorflow.keras.models import Model\n",
        "from tensorflow.keras.datasets import mnist\n",
        "import numpy as np\n",
        "import matplotlib.pyplot as plt\n",
        "from tensorflow.keras import backend as K\n",
        "from tensorflow.keras.utils import plot_model"
      ]
    },
    {
      "cell_type": "code",
      "source": [
        "(Xtrain,Ytrain),(Xtest,Ytest)=mnist.load_data()\n",
        "image_size=Xtrain.shape[1]\n",
        "Xtrain,Xtest=Xtrain/255.0, Xtest/255.0\n",
        "Xtrain=np.reshape(Xtrain,[-1,image_size,image_size,1])\n",
        "Xtest=np.reshape(Xtest,[-1,image_size,image_size,1])"
      ],
      "metadata": {
        "colab": {
          "base_uri": "https://localhost:8080/"
        },
        "id": "gdne4nsHO7r2",
        "outputId": "082d8bfe-c152-4f39-a485-19ea070ce610"
      },
      "execution_count": 4,
      "outputs": [
        {
          "output_type": "stream",
          "name": "stdout",
          "text": [
            "Downloading data from https://storage.googleapis.com/tensorflow/tf-keras-datasets/mnist.npz\n",
            "11493376/11490434 [==============================] - 0s 0us/step\n",
            "11501568/11490434 [==============================] - 0s 0us/step\n"
          ]
        }
      ]
    },
    {
      "cell_type": "code",
      "source": [
        "input_shape=(image_size,image_size,1)\n",
        "batch_size=32\n",
        "kernel_size=3\n",
        "latent_dim=16"
      ],
      "metadata": {
        "id": "X0Hd2pYWQVib"
      },
      "execution_count": 5,
      "outputs": []
    },
    {
      "cell_type": "code",
      "source": [
        "inputs=Input(shape=input_shape, name='encoder_input')\n",
        "x=Conv2D(32,(3,3),activation='relu',strides=2, padding='same')(inputs)\n",
        "x=Conv2D(64,(3,3),activation='relu',strides=2, padding='same')(x)\n",
        "\n",
        "shape=K.int_shape(x)\n",
        "\n",
        "x=Flatten()(x)\n",
        "latent=Dense(latent_dim, name='latent_vector')(x)\n",
        "encoder=Model(inputs,latent,name='encoder')\n",
        "encoder.summary()\n",
        "#plot_model(encoder,to_file='encoder.png', show_shapes=True)"
      ],
      "metadata": {
        "colab": {
          "base_uri": "https://localhost:8080/"
        },
        "id": "DUOc7CubQxEa",
        "outputId": "3b34a8b7-d5fa-4f8f-995c-fe91a08e01be"
      },
      "execution_count": 12,
      "outputs": [
        {
          "output_type": "stream",
          "name": "stdout",
          "text": [
            "Model: \"encoder\"\n",
            "_________________________________________________________________\n",
            " Layer (type)                Output Shape              Param #   \n",
            "=================================================================\n",
            " encoder_input (InputLayer)  [(None, 28, 28, 1)]       0         \n",
            "                                                                 \n",
            " conv2d_6 (Conv2D)           (None, 14, 14, 32)        320       \n",
            "                                                                 \n",
            " conv2d_7 (Conv2D)           (None, 7, 7, 64)          18496     \n",
            "                                                                 \n",
            " flatten_3 (Flatten)         (None, 3136)              0         \n",
            "                                                                 \n",
            " latent_vector (Dense)       (None, 16)                50192     \n",
            "                                                                 \n",
            "=================================================================\n",
            "Total params: 69,008\n",
            "Trainable params: 69,008\n",
            "Non-trainable params: 0\n",
            "_________________________________________________________________\n"
          ]
        }
      ]
    },
    {
      "cell_type": "code",
      "source": [
        "latent_inputs=Input(shape=(latent_dim,), name='decoder_input')\n",
        "x=Dense(shape[1]*shape[2]*shape[3])(latent_inputs)\n",
        "x=Reshape((shape[1],shape[2],shape[3]))(x)\n",
        "\n",
        "x=Conv2DTranspose(64,(3,3),activation='relu',strides=2,padding='same')(x)\n",
        "x=Conv2DTranspose(32,(3,3),activation='relu',strides=2,padding='same')(x)\n",
        "outputs=Conv2DTranspose(1, (3,3), activation='sigmoid', padding='same', name='decoder_output')(x)\n",
        "\n",
        "decoder = Model(latent_inputs, outputs, name='decoder')\n",
        "decoder.summary()"
      ],
      "metadata": {
        "colab": {
          "base_uri": "https://localhost:8080/"
        },
        "id": "lCVkvphMSmjk",
        "outputId": "93ea30f4-18f2-401e-ed62-a139246730f1"
      },
      "execution_count": 13,
      "outputs": [
        {
          "output_type": "stream",
          "name": "stdout",
          "text": [
            "Model: \"decoder\"\n",
            "_________________________________________________________________\n",
            " Layer (type)                Output Shape              Param #   \n",
            "=================================================================\n",
            " decoder_input (InputLayer)  [(None, 16)]              0         \n",
            "                                                                 \n",
            " dense (Dense)               (None, 3136)              53312     \n",
            "                                                                 \n",
            " reshape (Reshape)           (None, 7, 7, 64)          0         \n",
            "                                                                 \n",
            " conv2d_transpose (Conv2DTra  (None, 14, 14, 64)       36928     \n",
            " nspose)                                                         \n",
            "                                                                 \n",
            " conv2d_transpose_1 (Conv2DT  (None, 28, 28, 32)       18464     \n",
            " ranspose)                                                       \n",
            "                                                                 \n",
            " decoder_output (Conv2DTrans  (None, 28, 28, 1)        289       \n",
            " pose)                                                           \n",
            "                                                                 \n",
            "=================================================================\n",
            "Total params: 108,993\n",
            "Trainable params: 108,993\n",
            "Non-trainable params: 0\n",
            "_________________________________________________________________\n"
          ]
        }
      ]
    },
    {
      "cell_type": "code",
      "source": [
        "autoencoder=Model(inputs,decoder(encoder(inputs)), name='autoencoder')\n",
        "autoencoder.summary()\n",
        "autoencoder.compile(loss='mse', optimizer='adam')\n",
        "\n",
        "autoencoder.fit(Xtrain,\n",
        "                Xtrain,\n",
        "                validation_data=(Xtest, Xtest),\n",
        "                epochs=1,\n",
        "                batch_size=batch_size)\n"
      ],
      "metadata": {
        "colab": {
          "base_uri": "https://localhost:8080/"
        },
        "id": "XkPy7Uf8XVAt",
        "outputId": "b113180c-c7d4-413b-93f8-00e855cadbef"
      },
      "execution_count": 14,
      "outputs": [
        {
          "output_type": "stream",
          "name": "stdout",
          "text": [
            "Model: \"autoencoder\"\n",
            "_________________________________________________________________\n",
            " Layer (type)                Output Shape              Param #   \n",
            "=================================================================\n",
            " encoder_input (InputLayer)  [(None, 28, 28, 1)]       0         \n",
            "                                                                 \n",
            " encoder (Functional)        (None, 16)                69008     \n",
            "                                                                 \n",
            " decoder (Functional)        (None, 28, 28, 1)         108993    \n",
            "                                                                 \n",
            "=================================================================\n",
            "Total params: 178,001\n",
            "Trainable params: 178,001\n",
            "Non-trainable params: 0\n",
            "_________________________________________________________________\n",
            "1875/1875 [==============================] - 112s 59ms/step - loss: 0.0212 - val_loss: 0.0105\n"
          ]
        },
        {
          "output_type": "execute_result",
          "data": {
            "text/plain": [
              "<keras.callbacks.History at 0x7f76fcfcf390>"
            ]
          },
          "metadata": {},
          "execution_count": 14
        }
      ]
    },
    {
      "cell_type": "code",
      "source": [
        "x_decoded = autoencoder.predict(Xtest)\n",
        "imgs = np.concatenate([Xtest[:8], x_decoded[:8]])\n",
        "imgs = imgs.reshape((4, 4, image_size, image_size))\n",
        "imgs = np.vstack([np.hstack(i) for i in imgs])\n",
        "plt.figure()\n",
        "plt.axis('off')\n",
        "plt.title('Input: 1st 2 rows, Decoded: last 2 rows')\n",
        "plt.imshow(imgs, interpolation='none', cmap='gray')\n",
        "plt.savefig('input_and_decoded.png')\n",
        "plt.show()"
      ],
      "metadata": {
        "id": "L7nBYISCYQeY"
      },
      "execution_count": null,
      "outputs": []
    }
  ]
}