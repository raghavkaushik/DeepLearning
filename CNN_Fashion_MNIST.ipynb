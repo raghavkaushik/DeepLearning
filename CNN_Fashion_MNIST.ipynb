{
  "nbformat": 4,
  "nbformat_minor": 0,
  "metadata": {
    "colab": {
      "name": "CNN: Fashion MNIST.ipynb",
      "provenance": [],
      "authorship_tag": "ABX9TyPMAvVH6OoI2oONngOuQFR5",
      "include_colab_link": true
    },
    "kernelspec": {
      "name": "python3",
      "display_name": "Python 3"
    },
    "language_info": {
      "name": "python"
    }
  },
  "cells": [
    {
      "cell_type": "markdown",
      "metadata": {
        "id": "view-in-github",
        "colab_type": "text"
      },
      "source": [
        "<a href=\"https://colab.research.google.com/github/raghavkaushik/DeepLearning/blob/main/CNN_Fashion_MNIST.ipynb\" target=\"_parent\"><img src=\"https://colab.research.google.com/assets/colab-badge.svg\" alt=\"Open In Colab\"/></a>"
      ]
    },
    {
      "cell_type": "code",
      "execution_count": 20,
      "metadata": {
        "id": "rcX2V4T5GMM2"
      },
      "outputs": [],
      "source": [
        "from sklearn.model_selection import train_test_split\n",
        "import matplotlib.pyplot as plt\n",
        "from tensorflow.keras.models import Model \n",
        "from tensorflow.keras.layers import Dense, Conv2D, GlobalMaxPooling2D, Input, Dropout\n",
        "import tensorflow as tf\n",
        "import numpy as np\n"
      ]
    },
    {
      "cell_type": "code",
      "source": [
        "fashion_mnist=tf.keras.datasets.fashion_mnist\n",
        "(Xtrain,Ytrain),(Xtest,Ytest)=fashion_mnist.load_data()"
      ],
      "metadata": {
        "id": "vS9wCetJ2bA3"
      },
      "execution_count": 15,
      "outputs": []
    },
    {
      "cell_type": "code",
      "source": [
        "Xtrain,Xtest=Xtrain/255.0, Xtest/255.0"
      ],
      "metadata": {
        "id": "IDNSWQZo3JHA"
      },
      "execution_count": 16,
      "outputs": []
    },
    {
      "cell_type": "code",
      "source": [
        "print(Xtrain.shape)\n",
        "#As conv2d requires 3D dimensional input(HxWxC)\n",
        "Xtrain=np.expand_dims(Xtrain,-1)\n",
        "Xtest=np.expand_dims(Xtest,-1)\n",
        "print(Xtrain.shape)"
      ],
      "metadata": {
        "colab": {
          "base_uri": "https://localhost:8080/"
        },
        "id": "1gwtcums3RU-",
        "outputId": "cc19795b-5e2d-4aca-a180-28638a139205"
      },
      "execution_count": 17,
      "outputs": [
        {
          "output_type": "stream",
          "name": "stdout",
          "text": [
            "(60000, 28, 28)\n",
            "(60000, 28, 28, 1)\n"
          ]
        }
      ]
    },
    {
      "cell_type": "code",
      "source": [
        "k=len(set(Ytrain))\n",
        "print(\"Number of classes:\",k)"
      ],
      "metadata": {
        "colab": {
          "base_uri": "https://localhost:8080/"
        },
        "id": "T62hfLbR3U3l",
        "outputId": "ae4060ad-e44c-4dcb-e4f3-56491228cb3a"
      },
      "execution_count": 19,
      "outputs": [
        {
          "output_type": "stream",
          "name": "stdout",
          "text": [
            "Number of classes: 10\n"
          ]
        }
      ]
    },
    {
      "cell_type": "code",
      "source": [
        "i=Input(shape=Xtrain[0].shape)\n",
        "x=Conv2D(32,(3,3),strides=2, activation='relu', padding='same')(i)\n",
        "x=Conv2D(64,(3,3),strides=2, activation='relu', padding='same')(x)\n",
        "x=Conv2D(128,(3,3),strides=2, activation='relu', padding='same')(x)\n",
        "x = GlobalMaxPooling2D()(x)\n",
        "x = Dropout(0.2)(x)\n",
        "x=Dense(1024,activation='relu')(x)\n",
        "x=Dense(k,activation='softmax')(x)\n",
        "\n",
        "model=Model(i,x)\n"
      ],
      "metadata": {
        "id": "cUP5zJZ832De"
      },
      "execution_count": 24,
      "outputs": []
    },
    {
      "cell_type": "code",
      "source": [
        "model.compile(optimizer='adam',\n",
        "              loss='sparse_categorical_crossentropy',\n",
        "              metrics=['accuracy'])\n",
        "\n",
        "r=model.fit(Xtrain,Ytrain, validation_data=(Xtest,Ytest), epochs=15)"
      ],
      "metadata": {
        "colab": {
          "base_uri": "https://localhost:8080/"
        },
        "id": "KUuHfQO24RQm",
        "outputId": "ef088806-42c5-4fc3-e00a-34f8a798ff3a"
      },
      "execution_count": 26,
      "outputs": [
        {
          "output_type": "stream",
          "name": "stdout",
          "text": [
            "Epoch 1/15\n",
            "1875/1875 [==============================] - 56s 29ms/step - loss: 0.4123 - accuracy: 0.8494 - val_loss: 0.3633 - val_accuracy: 0.8666\n",
            "Epoch 2/15\n",
            "1875/1875 [==============================] - 56s 30ms/step - loss: 0.3281 - accuracy: 0.8799 - val_loss: 0.3236 - val_accuracy: 0.8780\n",
            "Epoch 3/15\n",
            "1875/1875 [==============================] - 58s 31ms/step - loss: 0.2886 - accuracy: 0.8931 - val_loss: 0.3011 - val_accuracy: 0.8884\n",
            "Epoch 4/15\n",
            "1875/1875 [==============================] - 56s 30ms/step - loss: 0.2626 - accuracy: 0.9021 - val_loss: 0.2789 - val_accuracy: 0.8952\n",
            "Epoch 5/15\n",
            "1875/1875 [==============================] - 55s 29ms/step - loss: 0.2420 - accuracy: 0.9092 - val_loss: 0.2810 - val_accuracy: 0.8968\n",
            "Epoch 6/15\n",
            "1875/1875 [==============================] - 54s 29ms/step - loss: 0.2250 - accuracy: 0.9155 - val_loss: 0.2775 - val_accuracy: 0.8971\n",
            "Epoch 7/15\n",
            "1875/1875 [==============================] - 36s 19ms/step - loss: 0.2104 - accuracy: 0.9214 - val_loss: 0.2828 - val_accuracy: 0.8939\n",
            "Epoch 8/15\n",
            "1875/1875 [==============================] - 36s 19ms/step - loss: 0.1989 - accuracy: 0.9257 - val_loss: 0.2613 - val_accuracy: 0.9108\n",
            "Epoch 9/15\n",
            "1875/1875 [==============================] - 39s 21ms/step - loss: 0.1850 - accuracy: 0.9291 - val_loss: 0.2519 - val_accuracy: 0.9117\n",
            "Epoch 10/15\n",
            "1875/1875 [==============================] - 37s 20ms/step - loss: 0.1764 - accuracy: 0.9336 - val_loss: 0.2560 - val_accuracy: 0.9121\n",
            "Epoch 11/15\n",
            "1875/1875 [==============================] - 36s 19ms/step - loss: 0.1683 - accuracy: 0.9366 - val_loss: 0.2606 - val_accuracy: 0.9106\n",
            "Epoch 12/15\n",
            "1875/1875 [==============================] - 37s 19ms/step - loss: 0.1583 - accuracy: 0.9406 - val_loss: 0.2600 - val_accuracy: 0.9094\n",
            "Epoch 13/15\n",
            "1875/1875 [==============================] - 38s 20ms/step - loss: 0.1527 - accuracy: 0.9426 - val_loss: 0.2666 - val_accuracy: 0.9099\n",
            "Epoch 14/15\n",
            "1875/1875 [==============================] - 37s 20ms/step - loss: 0.1459 - accuracy: 0.9447 - val_loss: 0.2584 - val_accuracy: 0.9103\n",
            "Epoch 15/15\n",
            "1875/1875 [==============================] - 38s 20ms/step - loss: 0.1371 - accuracy: 0.9489 - val_loss: 0.2613 - val_accuracy: 0.9127\n"
          ]
        }
      ]
    },
    {
      "cell_type": "code",
      "source": [
        "plt.plot(r.history['accuracy'],label='accuracy')\n",
        "plt.plot(r.history['val_accuracy'],label='val_accuracy')\n",
        "plt.legend()"
      ],
      "metadata": {
        "colab": {
          "base_uri": "https://localhost:8080/",
          "height": 282
        },
        "id": "kzhN3a225efm",
        "outputId": "b5ba83e0-1272-4a43-eec8-ab04161da989"
      },
      "execution_count": 28,
      "outputs": [
        {
          "output_type": "execute_result",
          "data": {
            "text/plain": [
              "<matplotlib.legend.Legend at 0x7f2fa91dc7d0>"
            ]
          },
          "metadata": {},
          "execution_count": 28
        },
        {
          "output_type": "display_data",
          "data": {
            "image/png": "[encoded data removed]",
            "text/plain": [
              "<Figure size 432x288 with 1 Axes>"
            ]
          },
          "metadata": {
            "needs_background": "light"
          }
        }
      ]
    },
    {
      "cell_type": "code",
      "source": [
        "plt.plot(r.history['val_loss'],label='val_loss')\n",
        "plt.plot(r.history['loss'],label='')\n",
        "plt.plot(r.history['val_loss'],label='val_loss')\n",
        "plt.legend()"
      ],
      "metadata": {
        "colab": {
          "base_uri": "https://localhost:8080/",
          "height": 282
        },
        "id": "OpA8cgjV51IT",
        "outputId": "9ff10b11-5db2-4070-f819-c4d4d5bfac17"
      },
      "execution_count": 29,
      "outputs": [
        {
          "output_type": "execute_result",
          "data": {
            "text/plain": [
              "<matplotlib.legend.Legend at 0x7f2fa913e310>"
            ]
          },
          "metadata": {},
          "execution_count": 29
        },
        {
          "output_type": "display_data",
          "data": {
            "image/png": "[encoded data removed]",
            "text/plain": [
              "<Figure size 432x288 with 1 Axes>"
            ]
          },
          "metadata": {
            "needs_background": "light"
          }
        }
      ]
    },
    {
      "cell_type": "code",
      "source": [
        "from sklearn.metrics import confusion_matrix"
      ],
      "metadata": {
        "id": "37YPMAaB51Qf"
      },
      "execution_count": 30,
      "outputs": []
    },
    {
      "cell_type": "code",
      "source": [
        "pred=model.predict(Xtest).argmax(axis=1)\n",
        "print(confusion_matrix(Ytest,pred))"
      ],
      "metadata": {
        "colab": {
          "base_uri": "https://localhost:8080/"
        },
        "id": "KPHQo0Iw6B5G",
        "outputId": "921108bc-b5df-4cb6-c3d7-bf058aa58cfa"
      },
      "execution_count": 31,
      "outputs": [
        {
          "output_type": "stream",
          "name": "stdout",
          "text": [
            "[[855   1   7  20   3   1 105   0   8   0]\n",
            " [  1 983   1  10   1   0   2   0   2   0]\n",
            " [ 16   2 858   8  38   0  74   0   4   0]\n",
            " [ 15   3   8 920  28   0  23   0   2   1]\n",
            " [  2   1  71  18 863   0  44   0   1   0]\n",
            " [  0   0   0   1   0 973   0  16   0  10]\n",
            " [ 98   3  55  25  62   0 752   0   5   0]\n",
            " [  0   0   0   0   0   3   0 985   1  11]\n",
            " [  3   1   0   2   4   3   0   4 983   0]\n",
            " [  0   0   0   0   0   7   1  37   0 955]]\n"
          ]
        }
      ]
    },
    {
      "cell_type": "code",
      "source": [
        ""
      ],
      "metadata": {
        "id": "0VYTIh4j8SDt"
      },
      "execution_count": null,
      "outputs": []
    }
  ]
}