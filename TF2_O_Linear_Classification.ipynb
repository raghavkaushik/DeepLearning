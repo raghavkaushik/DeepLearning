{
  "nbformat": 4,
  "nbformat_minor": 0,
  "metadata": {
    "colab": {
      "name": "TF2.O Linear Classification.ipynb",
      "provenance": [],
      "collapsed_sections": [],
      "authorship_tag": "ABX9TyOLdWiQ/nRchVjArK+fGOQK",
      "include_colab_link": true
    },
    "kernelspec": {
      "name": "python3",
      "display_name": "Python 3"
    },
    "language_info": {
      "name": "python"
    }
  },
  "cells": [
    {
      "cell_type": "markdown",
      "metadata": {
        "id": "view-in-github",
        "colab_type": "text"
      },
      "source": [
        "<a href=\"https://colab.research.google.com/github/raghavkaushik/DeepLearning/blob/main/TF2_O_Linear_Classification.ipynb\" target=\"_parent\"><img src=\"https://colab.research.google.com/assets/colab-badge.svg\" alt=\"Open In Colab\"/></a>"
      ]
    },
    {
      "cell_type": "code",
      "source": [
        "import tensorflow as tf"
      ],
      "metadata": {
        "id": "quF92NKcByzS"
      },
      "execution_count": 22,
      "outputs": []
    },
    {
      "cell_type": "code",
      "source": [
        "from sklearn.datasets import load_breast_cancer"
      ],
      "metadata": {
        "id": "fWqA9GGAB6GM"
      },
      "execution_count": 23,
      "outputs": []
    },
    {
      "cell_type": "code",
      "source": [
        "data=load_breast_cancer()"
      ],
      "metadata": {
        "id": "t-l9TS4yB_AX"
      },
      "execution_count": 24,
      "outputs": []
    },
    {
      "cell_type": "code",
      "source": [
        "data.keys()"
      ],
      "metadata": {
        "colab": {
          "base_uri": "https://localhost:8080/"
        },
        "id": "yQzZ43sLCD94",
        "outputId": "b712b1db-296d-4557-e3a3-b71f8d530794"
      },
      "execution_count": 25,
      "outputs": [
        {
          "output_type": "execute_result",
          "data": {
            "text/plain": [
              "dict_keys(['data', 'target', 'frame', 'target_names', 'DESCR', 'feature_names', 'filename', 'data_module'])"
            ]
          },
          "metadata": {},
          "execution_count": 25
        }
      ]
    },
    {
      "cell_type": "code",
      "source": [
        "data.data.shape"
      ],
      "metadata": {
        "colab": {
          "base_uri": "https://localhost:8080/"
        },
        "id": "ZHJeM4zvCGxg",
        "outputId": "0247e4ec-af99-4574-ef63-73fe9a6725e4"
      },
      "execution_count": 26,
      "outputs": [
        {
          "output_type": "execute_result",
          "data": {
            "text/plain": [
              "(569, 30)"
            ]
          },
          "metadata": {},
          "execution_count": 26
        }
      ]
    },
    {
      "cell_type": "code",
      "source": [
        "data.target"
      ],
      "metadata": {
        "colab": {
          "base_uri": "https://localhost:8080/"
        },
        "id": "fEDeAuo3COJP",
        "outputId": "2f23156d-bda3-4f4e-a888-13f18d2f970d"
      },
      "execution_count": 27,
      "outputs": [
        {
          "output_type": "execute_result",
          "data": {
            "text/plain": [
              "array([0, 0, 0, 0, 0, 0, 0, 0, 0, 0, 0, 0, 0, 0, 0, 0, 0, 0, 0, 1, 1, 1,\n",
              "       0, 0, 0, 0, 0, 0, 0, 0, 0, 0, 0, 0, 0, 0, 0, 1, 0, 0, 0, 0, 0, 0,\n",
              "       0, 0, 1, 0, 1, 1, 1, 1, 1, 0, 0, 1, 0, 0, 1, 1, 1, 1, 0, 1, 0, 0,\n",
              "       1, 1, 1, 1, 0, 1, 0, 0, 1, 0, 1, 0, 0, 1, 1, 1, 0, 0, 1, 0, 0, 0,\n",
              "       1, 1, 1, 0, 1, 1, 0, 0, 1, 1, 1, 0, 0, 1, 1, 1, 1, 0, 1, 1, 0, 1,\n",
              "       1, 1, 1, 1, 1, 1, 1, 0, 0, 0, 1, 0, 0, 1, 1, 1, 0, 0, 1, 0, 1, 0,\n",
              "       0, 1, 0, 0, 1, 1, 0, 1, 1, 0, 1, 1, 1, 1, 0, 1, 1, 1, 1, 1, 1, 1,\n",
              "       1, 1, 0, 1, 1, 1, 1, 0, 0, 1, 0, 1, 1, 0, 0, 1, 1, 0, 0, 1, 1, 1,\n",
              "       1, 0, 1, 1, 0, 0, 0, 1, 0, 1, 0, 1, 1, 1, 0, 1, 1, 0, 0, 1, 0, 0,\n",
              "       0, 0, 1, 0, 0, 0, 1, 0, 1, 0, 1, 1, 0, 1, 0, 0, 0, 0, 1, 1, 0, 0,\n",
              "       1, 1, 1, 0, 1, 1, 1, 1, 1, 0, 0, 1, 1, 0, 1, 1, 0, 0, 1, 0, 1, 1,\n",
              "       1, 1, 0, 1, 1, 1, 1, 1, 0, 1, 0, 0, 0, 0, 0, 0, 0, 0, 0, 0, 0, 0,\n",
              "       0, 0, 1, 1, 1, 1, 1, 1, 0, 1, 0, 1, 1, 0, 1, 1, 0, 1, 0, 0, 1, 1,\n",
              "       1, 1, 1, 1, 1, 1, 1, 1, 1, 1, 1, 0, 1, 1, 0, 1, 0, 1, 1, 1, 1, 1,\n",
              "       1, 1, 1, 1, 1, 1, 1, 1, 1, 0, 1, 1, 1, 0, 1, 0, 1, 1, 1, 1, 0, 0,\n",
              "       0, 1, 1, 1, 1, 0, 1, 0, 1, 0, 1, 1, 1, 0, 1, 1, 1, 1, 1, 1, 1, 0,\n",
              "       0, 0, 1, 1, 1, 1, 1, 1, 1, 1, 1, 1, 1, 0, 0, 1, 0, 0, 0, 1, 0, 0,\n",
              "       1, 1, 1, 1, 1, 0, 1, 1, 1, 1, 1, 0, 1, 1, 1, 0, 1, 1, 0, 0, 1, 1,\n",
              "       1, 1, 1, 1, 0, 1, 1, 1, 1, 1, 1, 1, 0, 1, 1, 1, 1, 1, 0, 1, 1, 0,\n",
              "       1, 1, 1, 1, 1, 1, 1, 1, 1, 1, 1, 1, 0, 1, 0, 0, 1, 0, 1, 1, 1, 1,\n",
              "       1, 0, 1, 1, 0, 1, 0, 1, 1, 0, 1, 0, 1, 1, 1, 1, 1, 1, 1, 1, 0, 0,\n",
              "       1, 1, 1, 1, 1, 1, 0, 1, 1, 1, 1, 1, 1, 1, 1, 1, 1, 0, 1, 1, 1, 1,\n",
              "       1, 1, 1, 0, 1, 0, 1, 1, 0, 1, 1, 1, 1, 1, 0, 0, 1, 0, 1, 0, 1, 1,\n",
              "       1, 1, 1, 0, 1, 1, 0, 1, 0, 1, 0, 0, 1, 1, 1, 0, 1, 1, 1, 1, 1, 1,\n",
              "       1, 1, 1, 1, 1, 0, 1, 0, 0, 1, 1, 1, 1, 1, 1, 1, 1, 1, 1, 1, 1, 1,\n",
              "       1, 1, 1, 1, 1, 1, 1, 1, 1, 1, 1, 1, 0, 0, 0, 0, 0, 0, 1])"
            ]
          },
          "metadata": {},
          "execution_count": 27
        }
      ]
    },
    {
      "cell_type": "code",
      "source": [
        "data.feature_names"
      ],
      "metadata": {
        "colab": {
          "base_uri": "https://localhost:8080/"
        },
        "id": "isb6vgqfCPzr",
        "outputId": "39829d65-f31c-4410-eaf2-b621a748aa8a"
      },
      "execution_count": 28,
      "outputs": [
        {
          "output_type": "execute_result",
          "data": {
            "text/plain": [
              "array(['mean radius', 'mean texture', 'mean perimeter', 'mean area',\n",
              "       'mean smoothness', 'mean compactness', 'mean concavity',\n",
              "       'mean concave points', 'mean symmetry', 'mean fractal dimension',\n",
              "       'radius error', 'texture error', 'perimeter error', 'area error',\n",
              "       'smoothness error', 'compactness error', 'concavity error',\n",
              "       'concave points error', 'symmetry error',\n",
              "       'fractal dimension error', 'worst radius', 'worst texture',\n",
              "       'worst perimeter', 'worst area', 'worst smoothness',\n",
              "       'worst compactness', 'worst concavity', 'worst concave points',\n",
              "       'worst symmetry', 'worst fractal dimension'], dtype='<U23')"
            ]
          },
          "metadata": {},
          "execution_count": 28
        }
      ]
    },
    {
      "cell_type": "code",
      "source": [
        "from sklearn.model_selection import train_test_split"
      ],
      "metadata": {
        "id": "JB46DJkvCP16"
      },
      "execution_count": 29,
      "outputs": []
    },
    {
      "cell_type": "code",
      "source": [
        "Xtrain,Xtest,Ytrain,Ytest=train_test_split(data.data,data.target,test_size=0.35)"
      ],
      "metadata": {
        "id": "UJyBqCcmCP4S"
      },
      "execution_count": 30,
      "outputs": []
    },
    {
      "cell_type": "code",
      "source": [
        "from sklearn.preprocessing import StandardScaler"
      ],
      "metadata": {
        "id": "hD4QmdCBCP65"
      },
      "execution_count": 31,
      "outputs": []
    },
    {
      "cell_type": "code",
      "source": [
        "scaler=StandardScaler()\n",
        "Xtrain=scaler.fit_transform(Xtrain)\n",
        "Xtest=scaler.transform(Xtest)"
      ],
      "metadata": {
        "id": "mI_xiKzKCP9c"
      },
      "execution_count": 32,
      "outputs": []
    },
    {
      "cell_type": "code",
      "source": [
        "model=tf.keras.models.Sequential([tf.keras.layers.Dense(1,activation='sigmoid')])\n",
        "\n",
        "model.compile(optimizer='adam', \n",
        "              loss='binary_crossentropy',\n",
        "              metrics=['accuracy'])\n",
        "\n",
        "r=model.fit(Xtrain,Ytrain,validation_data=(Xtest,Ytest),epochs=120)"
      ],
      "metadata": {
        "colab": {
          "base_uri": "https://localhost:8080/"
        },
        "id": "EifaSzE2CQwI",
        "outputId": "d70570b3-5c55-442f-b4e7-baa395b71487"
      },
      "execution_count": 33,
      "outputs": [
        {
          "output_type": "stream",
          "name": "stdout",
          "text": [
            "Epoch 1/120\n",
            "12/12 [==============================] - 1s 15ms/step - loss: 0.6430 - accuracy: 0.6098 - val_loss: 0.6045 - val_accuracy: 0.6750\n",
            "Epoch 2/120\n",
            "12/12 [==============================] - 0s 5ms/step - loss: 0.5751 - accuracy: 0.6748 - val_loss: 0.5450 - val_accuracy: 0.7100\n",
            "Epoch 3/120\n",
            "12/12 [==============================] - 0s 5ms/step - loss: 0.5162 - accuracy: 0.7209 - val_loss: 0.4943 - val_accuracy: 0.7600\n",
            "Epoch 4/120\n",
            "12/12 [==============================] - 0s 4ms/step - loss: 0.4668 - accuracy: 0.7751 - val_loss: 0.4519 - val_accuracy: 0.7950\n",
            "Epoch 5/120\n",
            "12/12 [==============================] - 0s 5ms/step - loss: 0.4246 - accuracy: 0.8266 - val_loss: 0.4168 - val_accuracy: 0.8350\n",
            "Epoch 6/120\n",
            "12/12 [==============================] - 0s 4ms/step - loss: 0.3889 - accuracy: 0.8591 - val_loss: 0.3873 - val_accuracy: 0.8650\n",
            "Epoch 7/120\n",
            "12/12 [==============================] - 0s 5ms/step - loss: 0.3583 - accuracy: 0.8780 - val_loss: 0.3629 - val_accuracy: 0.8750\n",
            "Epoch 8/120\n",
            "12/12 [==============================] - 0s 5ms/step - loss: 0.3325 - accuracy: 0.8835 - val_loss: 0.3421 - val_accuracy: 0.8950\n",
            "Epoch 9/120\n",
            "12/12 [==============================] - 0s 4ms/step - loss: 0.3101 - accuracy: 0.8997 - val_loss: 0.3242 - val_accuracy: 0.9000\n",
            "Epoch 10/120\n",
            "12/12 [==============================] - 0s 5ms/step - loss: 0.2908 - accuracy: 0.9187 - val_loss: 0.3091 - val_accuracy: 0.9000\n",
            "Epoch 11/120\n",
            "12/12 [==============================] - 0s 4ms/step - loss: 0.2744 - accuracy: 0.9241 - val_loss: 0.2960 - val_accuracy: 0.9000\n",
            "Epoch 12/120\n",
            "12/12 [==============================] - 0s 5ms/step - loss: 0.2596 - accuracy: 0.9322 - val_loss: 0.2846 - val_accuracy: 0.9000\n",
            "Epoch 13/120\n",
            "12/12 [==============================] - 0s 5ms/step - loss: 0.2471 - accuracy: 0.9350 - val_loss: 0.2743 - val_accuracy: 0.9150\n",
            "Epoch 14/120\n",
            "12/12 [==============================] - 0s 5ms/step - loss: 0.2357 - accuracy: 0.9377 - val_loss: 0.2653 - val_accuracy: 0.9150\n",
            "Epoch 15/120\n",
            "12/12 [==============================] - 0s 5ms/step - loss: 0.2254 - accuracy: 0.9377 - val_loss: 0.2577 - val_accuracy: 0.9150\n",
            "Epoch 16/120\n",
            "12/12 [==============================] - 0s 6ms/step - loss: 0.2172 - accuracy: 0.9404 - val_loss: 0.2507 - val_accuracy: 0.9100\n",
            "Epoch 17/120\n",
            "12/12 [==============================] - 0s 5ms/step - loss: 0.2092 - accuracy: 0.9458 - val_loss: 0.2445 - val_accuracy: 0.9100\n",
            "Epoch 18/120\n",
            "12/12 [==============================] - 0s 5ms/step - loss: 0.2022 - accuracy: 0.9512 - val_loss: 0.2387 - val_accuracy: 0.9050\n",
            "Epoch 19/120\n",
            "12/12 [==============================] - 0s 5ms/step - loss: 0.1957 - accuracy: 0.9539 - val_loss: 0.2334 - val_accuracy: 0.9050\n",
            "Epoch 20/120\n",
            "12/12 [==============================] - 0s 5ms/step - loss: 0.1899 - accuracy: 0.9539 - val_loss: 0.2286 - val_accuracy: 0.9100\n",
            "Epoch 21/120\n",
            "12/12 [==============================] - 0s 4ms/step - loss: 0.1846 - accuracy: 0.9593 - val_loss: 0.2242 - val_accuracy: 0.9100\n",
            "Epoch 22/120\n",
            "12/12 [==============================] - 0s 5ms/step - loss: 0.1797 - accuracy: 0.9593 - val_loss: 0.2201 - val_accuracy: 0.9100\n",
            "Epoch 23/120\n",
            "12/12 [==============================] - 0s 4ms/step - loss: 0.1753 - accuracy: 0.9593 - val_loss: 0.2162 - val_accuracy: 0.9100\n",
            "Epoch 24/120\n",
            "12/12 [==============================] - 0s 4ms/step - loss: 0.1712 - accuracy: 0.9593 - val_loss: 0.2127 - val_accuracy: 0.9150\n",
            "Epoch 25/120\n",
            "12/12 [==============================] - 0s 4ms/step - loss: 0.1674 - accuracy: 0.9593 - val_loss: 0.2094 - val_accuracy: 0.9250\n",
            "Epoch 26/120\n",
            "12/12 [==============================] - 0s 5ms/step - loss: 0.1640 - accuracy: 0.9593 - val_loss: 0.2062 - val_accuracy: 0.9300\n",
            "Epoch 27/120\n",
            "12/12 [==============================] - 0s 6ms/step - loss: 0.1608 - accuracy: 0.9593 - val_loss: 0.2032 - val_accuracy: 0.9300\n",
            "Epoch 28/120\n",
            "12/12 [==============================] - 0s 6ms/step - loss: 0.1577 - accuracy: 0.9593 - val_loss: 0.2005 - val_accuracy: 0.9300\n",
            "Epoch 29/120\n",
            "12/12 [==============================] - 0s 5ms/step - loss: 0.1550 - accuracy: 0.9593 - val_loss: 0.1980 - val_accuracy: 0.9300\n",
            "Epoch 30/120\n",
            "12/12 [==============================] - 0s 6ms/step - loss: 0.1523 - accuracy: 0.9593 - val_loss: 0.1955 - val_accuracy: 0.9300\n",
            "Epoch 31/120\n",
            "12/12 [==============================] - 0s 6ms/step - loss: 0.1498 - accuracy: 0.9593 - val_loss: 0.1931 - val_accuracy: 0.9300\n",
            "Epoch 32/120\n",
            "12/12 [==============================] - 0s 4ms/step - loss: 0.1475 - accuracy: 0.9593 - val_loss: 0.1907 - val_accuracy: 0.9300\n",
            "Epoch 33/120\n",
            "12/12 [==============================] - 0s 4ms/step - loss: 0.1452 - accuracy: 0.9621 - val_loss: 0.1885 - val_accuracy: 0.9300\n",
            "Epoch 34/120\n",
            "12/12 [==============================] - 0s 4ms/step - loss: 0.1431 - accuracy: 0.9648 - val_loss: 0.1864 - val_accuracy: 0.9350\n",
            "Epoch 35/120\n",
            "12/12 [==============================] - 0s 4ms/step - loss: 0.1412 - accuracy: 0.9648 - val_loss: 0.1843 - val_accuracy: 0.9350\n",
            "Epoch 36/120\n",
            "12/12 [==============================] - 0s 6ms/step - loss: 0.1393 - accuracy: 0.9648 - val_loss: 0.1823 - val_accuracy: 0.9350\n",
            "Epoch 37/120\n",
            "12/12 [==============================] - 0s 5ms/step - loss: 0.1375 - accuracy: 0.9648 - val_loss: 0.1804 - val_accuracy: 0.9350\n",
            "Epoch 38/120\n",
            "12/12 [==============================] - 0s 6ms/step - loss: 0.1358 - accuracy: 0.9648 - val_loss: 0.1785 - val_accuracy: 0.9350\n",
            "Epoch 39/120\n",
            "12/12 [==============================] - 0s 5ms/step - loss: 0.1342 - accuracy: 0.9648 - val_loss: 0.1766 - val_accuracy: 0.9350\n",
            "Epoch 40/120\n",
            "12/12 [==============================] - 0s 6ms/step - loss: 0.1326 - accuracy: 0.9648 - val_loss: 0.1750 - val_accuracy: 0.9350\n",
            "Epoch 41/120\n",
            "12/12 [==============================] - 0s 6ms/step - loss: 0.1312 - accuracy: 0.9675 - val_loss: 0.1732 - val_accuracy: 0.9400\n",
            "Epoch 42/120\n",
            "12/12 [==============================] - 0s 5ms/step - loss: 0.1298 - accuracy: 0.9675 - val_loss: 0.1716 - val_accuracy: 0.9400\n",
            "Epoch 43/120\n",
            "12/12 [==============================] - 0s 4ms/step - loss: 0.1283 - accuracy: 0.9675 - val_loss: 0.1699 - val_accuracy: 0.9400\n",
            "Epoch 44/120\n",
            "12/12 [==============================] - 0s 4ms/step - loss: 0.1271 - accuracy: 0.9675 - val_loss: 0.1684 - val_accuracy: 0.9400\n",
            "Epoch 45/120\n",
            "12/12 [==============================] - 0s 5ms/step - loss: 0.1259 - accuracy: 0.9702 - val_loss: 0.1670 - val_accuracy: 0.9400\n",
            "Epoch 46/120\n",
            "12/12 [==============================] - 0s 6ms/step - loss: 0.1246 - accuracy: 0.9702 - val_loss: 0.1656 - val_accuracy: 0.9400\n",
            "Epoch 47/120\n",
            "12/12 [==============================] - 0s 5ms/step - loss: 0.1234 - accuracy: 0.9702 - val_loss: 0.1642 - val_accuracy: 0.9400\n",
            "Epoch 48/120\n",
            "12/12 [==============================] - 0s 4ms/step - loss: 0.1223 - accuracy: 0.9702 - val_loss: 0.1627 - val_accuracy: 0.9400\n",
            "Epoch 49/120\n",
            "12/12 [==============================] - 0s 5ms/step - loss: 0.1212 - accuracy: 0.9702 - val_loss: 0.1613 - val_accuracy: 0.9400\n",
            "Epoch 50/120\n",
            "12/12 [==============================] - 0s 4ms/step - loss: 0.1201 - accuracy: 0.9702 - val_loss: 0.1599 - val_accuracy: 0.9400\n",
            "Epoch 51/120\n",
            "12/12 [==============================] - 0s 5ms/step - loss: 0.1191 - accuracy: 0.9702 - val_loss: 0.1587 - val_accuracy: 0.9400\n",
            "Epoch 52/120\n",
            "12/12 [==============================] - 0s 4ms/step - loss: 0.1182 - accuracy: 0.9702 - val_loss: 0.1574 - val_accuracy: 0.9400\n",
            "Epoch 53/120\n",
            "12/12 [==============================] - 0s 5ms/step - loss: 0.1172 - accuracy: 0.9702 - val_loss: 0.1562 - val_accuracy: 0.9400\n",
            "Epoch 54/120\n",
            "12/12 [==============================] - 0s 5ms/step - loss: 0.1162 - accuracy: 0.9702 - val_loss: 0.1551 - val_accuracy: 0.9400\n",
            "Epoch 55/120\n",
            "12/12 [==============================] - 0s 5ms/step - loss: 0.1154 - accuracy: 0.9702 - val_loss: 0.1538 - val_accuracy: 0.9400\n",
            "Epoch 56/120\n",
            "12/12 [==============================] - 0s 4ms/step - loss: 0.1144 - accuracy: 0.9702 - val_loss: 0.1527 - val_accuracy: 0.9400\n",
            "Epoch 57/120\n",
            "12/12 [==============================] - 0s 4ms/step - loss: 0.1136 - accuracy: 0.9702 - val_loss: 0.1516 - val_accuracy: 0.9400\n",
            "Epoch 58/120\n",
            "12/12 [==============================] - 0s 4ms/step - loss: 0.1128 - accuracy: 0.9702 - val_loss: 0.1505 - val_accuracy: 0.9400\n",
            "Epoch 59/120\n",
            "12/12 [==============================] - 0s 5ms/step - loss: 0.1120 - accuracy: 0.9702 - val_loss: 0.1494 - val_accuracy: 0.9400\n",
            "Epoch 60/120\n",
            "12/12 [==============================] - 0s 5ms/step - loss: 0.1113 - accuracy: 0.9702 - val_loss: 0.1484 - val_accuracy: 0.9400\n",
            "Epoch 61/120\n",
            "12/12 [==============================] - 0s 4ms/step - loss: 0.1105 - accuracy: 0.9702 - val_loss: 0.1473 - val_accuracy: 0.9400\n",
            "Epoch 62/120\n",
            "12/12 [==============================] - 0s 4ms/step - loss: 0.1098 - accuracy: 0.9702 - val_loss: 0.1464 - val_accuracy: 0.9400\n",
            "Epoch 63/120\n",
            "12/12 [==============================] - 0s 5ms/step - loss: 0.1090 - accuracy: 0.9702 - val_loss: 0.1455 - val_accuracy: 0.9400\n",
            "Epoch 64/120\n",
            "12/12 [==============================] - 0s 4ms/step - loss: 0.1084 - accuracy: 0.9702 - val_loss: 0.1446 - val_accuracy: 0.9400\n",
            "Epoch 65/120\n",
            "12/12 [==============================] - 0s 5ms/step - loss: 0.1078 - accuracy: 0.9702 - val_loss: 0.1437 - val_accuracy: 0.9400\n",
            "Epoch 66/120\n",
            "12/12 [==============================] - 0s 6ms/step - loss: 0.1071 - accuracy: 0.9702 - val_loss: 0.1427 - val_accuracy: 0.9400\n",
            "Epoch 67/120\n",
            "12/12 [==============================] - 0s 6ms/step - loss: 0.1065 - accuracy: 0.9702 - val_loss: 0.1417 - val_accuracy: 0.9400\n",
            "Epoch 68/120\n",
            "12/12 [==============================] - 0s 4ms/step - loss: 0.1058 - accuracy: 0.9702 - val_loss: 0.1409 - val_accuracy: 0.9400\n",
            "Epoch 69/120\n",
            "12/12 [==============================] - 0s 5ms/step - loss: 0.1052 - accuracy: 0.9702 - val_loss: 0.1400 - val_accuracy: 0.9450\n",
            "Epoch 70/120\n",
            "12/12 [==============================] - 0s 7ms/step - loss: 0.1046 - accuracy: 0.9702 - val_loss: 0.1391 - val_accuracy: 0.9450\n",
            "Epoch 71/120\n",
            "12/12 [==============================] - 0s 4ms/step - loss: 0.1041 - accuracy: 0.9702 - val_loss: 0.1383 - val_accuracy: 0.9450\n",
            "Epoch 72/120\n",
            "12/12 [==============================] - 0s 4ms/step - loss: 0.1035 - accuracy: 0.9702 - val_loss: 0.1374 - val_accuracy: 0.9450\n",
            "Epoch 73/120\n",
            "12/12 [==============================] - 0s 4ms/step - loss: 0.1029 - accuracy: 0.9702 - val_loss: 0.1366 - val_accuracy: 0.9450\n",
            "Epoch 74/120\n",
            "12/12 [==============================] - 0s 4ms/step - loss: 0.1024 - accuracy: 0.9729 - val_loss: 0.1358 - val_accuracy: 0.9450\n",
            "Epoch 75/120\n",
            "12/12 [==============================] - 0s 4ms/step - loss: 0.1019 - accuracy: 0.9729 - val_loss: 0.1350 - val_accuracy: 0.9450\n",
            "Epoch 76/120\n",
            "12/12 [==============================] - 0s 5ms/step - loss: 0.1014 - accuracy: 0.9729 - val_loss: 0.1342 - val_accuracy: 0.9450\n",
            "Epoch 77/120\n",
            "12/12 [==============================] - 0s 4ms/step - loss: 0.1009 - accuracy: 0.9729 - val_loss: 0.1335 - val_accuracy: 0.9450\n",
            "Epoch 78/120\n",
            "12/12 [==============================] - 0s 6ms/step - loss: 0.1004 - accuracy: 0.9729 - val_loss: 0.1328 - val_accuracy: 0.9450\n",
            "Epoch 79/120\n",
            "12/12 [==============================] - 0s 4ms/step - loss: 0.0999 - accuracy: 0.9729 - val_loss: 0.1321 - val_accuracy: 0.9450\n",
            "Epoch 80/120\n",
            "12/12 [==============================] - 0s 6ms/step - loss: 0.0995 - accuracy: 0.9729 - val_loss: 0.1313 - val_accuracy: 0.9450\n",
            "Epoch 81/120\n",
            "12/12 [==============================] - 0s 4ms/step - loss: 0.0990 - accuracy: 0.9729 - val_loss: 0.1307 - val_accuracy: 0.9450\n",
            "Epoch 82/120\n",
            "12/12 [==============================] - 0s 5ms/step - loss: 0.0985 - accuracy: 0.9729 - val_loss: 0.1300 - val_accuracy: 0.9450\n",
            "Epoch 83/120\n",
            "12/12 [==============================] - 0s 6ms/step - loss: 0.0981 - accuracy: 0.9729 - val_loss: 0.1293 - val_accuracy: 0.9450\n",
            "Epoch 84/120\n",
            "12/12 [==============================] - 0s 5ms/step - loss: 0.0977 - accuracy: 0.9729 - val_loss: 0.1286 - val_accuracy: 0.9450\n",
            "Epoch 85/120\n",
            "12/12 [==============================] - 0s 6ms/step - loss: 0.0972 - accuracy: 0.9729 - val_loss: 0.1279 - val_accuracy: 0.9450\n",
            "Epoch 86/120\n",
            "12/12 [==============================] - 0s 5ms/step - loss: 0.0968 - accuracy: 0.9729 - val_loss: 0.1273 - val_accuracy: 0.9450\n",
            "Epoch 87/120\n",
            "12/12 [==============================] - 0s 5ms/step - loss: 0.0964 - accuracy: 0.9729 - val_loss: 0.1266 - val_accuracy: 0.9500\n",
            "Epoch 88/120\n",
            "12/12 [==============================] - 0s 6ms/step - loss: 0.0960 - accuracy: 0.9729 - val_loss: 0.1259 - val_accuracy: 0.9500\n",
            "Epoch 89/120\n",
            "12/12 [==============================] - 0s 5ms/step - loss: 0.0956 - accuracy: 0.9729 - val_loss: 0.1253 - val_accuracy: 0.9500\n",
            "Epoch 90/120\n",
            "12/12 [==============================] - 0s 4ms/step - loss: 0.0952 - accuracy: 0.9729 - val_loss: 0.1247 - val_accuracy: 0.9500\n",
            "Epoch 91/120\n",
            "12/12 [==============================] - 0s 5ms/step - loss: 0.0949 - accuracy: 0.9729 - val_loss: 0.1240 - val_accuracy: 0.9500\n",
            "Epoch 92/120\n",
            "12/12 [==============================] - 0s 4ms/step - loss: 0.0944 - accuracy: 0.9729 - val_loss: 0.1235 - val_accuracy: 0.9500\n",
            "Epoch 93/120\n",
            "12/12 [==============================] - 0s 6ms/step - loss: 0.0941 - accuracy: 0.9729 - val_loss: 0.1230 - val_accuracy: 0.9500\n",
            "Epoch 94/120\n",
            "12/12 [==============================] - 0s 5ms/step - loss: 0.0937 - accuracy: 0.9729 - val_loss: 0.1223 - val_accuracy: 0.9500\n",
            "Epoch 95/120\n",
            "12/12 [==============================] - 0s 5ms/step - loss: 0.0934 - accuracy: 0.9729 - val_loss: 0.1218 - val_accuracy: 0.9500\n",
            "Epoch 96/120\n",
            "12/12 [==============================] - 0s 5ms/step - loss: 0.0930 - accuracy: 0.9729 - val_loss: 0.1212 - val_accuracy: 0.9500\n",
            "Epoch 97/120\n",
            "12/12 [==============================] - 0s 4ms/step - loss: 0.0927 - accuracy: 0.9729 - val_loss: 0.1207 - val_accuracy: 0.9500\n",
            "Epoch 98/120\n",
            "12/12 [==============================] - 0s 5ms/step - loss: 0.0924 - accuracy: 0.9729 - val_loss: 0.1202 - val_accuracy: 0.9500\n",
            "Epoch 99/120\n",
            "12/12 [==============================] - 0s 5ms/step - loss: 0.0920 - accuracy: 0.9756 - val_loss: 0.1196 - val_accuracy: 0.9500\n",
            "Epoch 100/120\n",
            "12/12 [==============================] - 0s 4ms/step - loss: 0.0917 - accuracy: 0.9756 - val_loss: 0.1192 - val_accuracy: 0.9500\n",
            "Epoch 101/120\n",
            "12/12 [==============================] - 0s 6ms/step - loss: 0.0914 - accuracy: 0.9756 - val_loss: 0.1186 - val_accuracy: 0.9550\n",
            "Epoch 102/120\n",
            "12/12 [==============================] - 0s 5ms/step - loss: 0.0911 - accuracy: 0.9756 - val_loss: 0.1181 - val_accuracy: 0.9550\n",
            "Epoch 103/120\n",
            "12/12 [==============================] - 0s 6ms/step - loss: 0.0908 - accuracy: 0.9756 - val_loss: 0.1175 - val_accuracy: 0.9550\n",
            "Epoch 104/120\n",
            "12/12 [==============================] - 0s 4ms/step - loss: 0.0905 - accuracy: 0.9756 - val_loss: 0.1171 - val_accuracy: 0.9550\n",
            "Epoch 105/120\n",
            "12/12 [==============================] - 0s 5ms/step - loss: 0.0902 - accuracy: 0.9756 - val_loss: 0.1166 - val_accuracy: 0.9550\n",
            "Epoch 106/120\n",
            "12/12 [==============================] - 0s 5ms/step - loss: 0.0898 - accuracy: 0.9756 - val_loss: 0.1161 - val_accuracy: 0.9550\n",
            "Epoch 107/120\n",
            "12/12 [==============================] - 0s 5ms/step - loss: 0.0895 - accuracy: 0.9756 - val_loss: 0.1156 - val_accuracy: 0.9550\n",
            "Epoch 108/120\n",
            "12/12 [==============================] - 0s 6ms/step - loss: 0.0892 - accuracy: 0.9756 - val_loss: 0.1151 - val_accuracy: 0.9550\n",
            "Epoch 109/120\n",
            "12/12 [==============================] - 0s 5ms/step - loss: 0.0890 - accuracy: 0.9783 - val_loss: 0.1146 - val_accuracy: 0.9550\n",
            "Epoch 110/120\n",
            "12/12 [==============================] - 0s 5ms/step - loss: 0.0887 - accuracy: 0.9783 - val_loss: 0.1141 - val_accuracy: 0.9550\n",
            "Epoch 111/120\n",
            "12/12 [==============================] - 0s 6ms/step - loss: 0.0884 - accuracy: 0.9783 - val_loss: 0.1136 - val_accuracy: 0.9550\n",
            "Epoch 112/120\n",
            "12/12 [==============================] - 0s 5ms/step - loss: 0.0881 - accuracy: 0.9783 - val_loss: 0.1132 - val_accuracy: 0.9550\n",
            "Epoch 113/120\n",
            "12/12 [==============================] - 0s 6ms/step - loss: 0.0879 - accuracy: 0.9783 - val_loss: 0.1128 - val_accuracy: 0.9550\n",
            "Epoch 114/120\n",
            "12/12 [==============================] - 0s 4ms/step - loss: 0.0876 - accuracy: 0.9783 - val_loss: 0.1124 - val_accuracy: 0.9550\n",
            "Epoch 115/120\n",
            "12/12 [==============================] - 0s 4ms/step - loss: 0.0873 - accuracy: 0.9783 - val_loss: 0.1118 - val_accuracy: 0.9550\n",
            "Epoch 116/120\n",
            "12/12 [==============================] - 0s 4ms/step - loss: 0.0871 - accuracy: 0.9783 - val_loss: 0.1115 - val_accuracy: 0.9550\n",
            "Epoch 117/120\n",
            "12/12 [==============================] - 0s 5ms/step - loss: 0.0869 - accuracy: 0.9783 - val_loss: 0.1110 - val_accuracy: 0.9550\n",
            "Epoch 118/120\n",
            "12/12 [==============================] - 0s 4ms/step - loss: 0.0866 - accuracy: 0.9783 - val_loss: 0.1107 - val_accuracy: 0.9550\n",
            "Epoch 119/120\n",
            "12/12 [==============================] - 0s 6ms/step - loss: 0.0864 - accuracy: 0.9783 - val_loss: 0.1103 - val_accuracy: 0.9550\n",
            "Epoch 120/120\n",
            "12/12 [==============================] - 0s 4ms/step - loss: 0.0861 - accuracy: 0.9783 - val_loss: 0.1099 - val_accuracy: 0.9550\n"
          ]
        }
      ]
    },
    {
      "cell_type": "code",
      "source": [
        "print(\"Train score:\",model.evaluate(Xtrain,Ytrain))\n",
        "print(\"Test score:\",model.evaluate(Xtest,Ytest))"
      ],
      "metadata": {
        "colab": {
          "base_uri": "https://localhost:8080/"
        },
        "id": "GEYYMZIiCQzq",
        "outputId": "bcc876ce-81c4-4ecb-cf17-a27cacd12abf"
      },
      "execution_count": 34,
      "outputs": [
        {
          "output_type": "stream",
          "name": "stdout",
          "text": [
            "12/12 [==============================] - 0s 2ms/step - loss: 0.0860 - accuracy: 0.9783\n",
            "Train score: [0.08596338331699371, 0.9783197641372681]\n",
            "7/7 [==============================] - 0s 4ms/step - loss: 0.1099 - accuracy: 0.9550\n",
            "Test score: [0.10990742594003677, 0.9549999833106995]\n"
          ]
        }
      ]
    },
    {
      "cell_type": "code",
      "source": [
        "import matplotlib.pyplot as plt\n",
        "\n",
        "plt.plot(r.history['loss'], label='Loss')\n",
        "plt.plot(r.history['val_loss'], label='Val_Loss')\n",
        "plt.legend()"
      ],
      "metadata": {
        "colab": {
          "base_uri": "https://localhost:8080/",
          "height": 282
        },
        "id": "kz2NqPXzCQ2e",
        "outputId": "c4928602-9ffd-469e-df6e-acfc9d964ab4"
      },
      "execution_count": 35,
      "outputs": [
        {
          "output_type": "execute_result",
          "data": {
            "text/plain": [
              "<matplotlib.legend.Legend at 0x7fdccf491450>"
            ]
          },
          "metadata": {},
          "execution_count": 35
        },
        {
          "output_type": "display_data",
          "data": {
            "image/png": "[encoded data removed]",
            "text/plain": [
              "<Figure size 432x288 with 1 Axes>"
            ]
          },
          "metadata": {
            "needs_background": "light"
          }
        }
      ]
    },
    {
      "cell_type": "code",
      "source": [
        "plt.plot(r.history['accuracy'], label='acc')\n",
        "plt.plot(r.history['val_accuracy'], label='val_acc')\n",
        "plt.legend()"
      ],
      "metadata": {
        "colab": {
          "base_uri": "https://localhost:8080/",
          "height": 282
        },
        "id": "xAPD2YtNCQ5h",
        "outputId": "b1a5a77e-ce91-4c0f-b3d9-208a8afac588"
      },
      "execution_count": 36,
      "outputs": [
        {
          "output_type": "execute_result",
          "data": {
            "text/plain": [
              "<matplotlib.legend.Legend at 0x7fdcc7216bd0>"
            ]
          },
          "metadata": {},
          "execution_count": 36
        },
        {
          "output_type": "display_data",
          "data": {
            "image/png": "[encoded data removed]",
            "text/plain": [
              "<Figure size 432x288 with 1 Axes>"
            ]
          },
          "metadata": {
            "needs_background": "light"
          }
        }
      ]
    },
    {
      "cell_type": "code",
      "source": [
        "import numpy as np\n",
        "pred=model.predict(Xtest)\n",
        "pred=np.round(pred).flatten()\n",
        "print(pred)"
      ],
      "metadata": {
        "colab": {
          "base_uri": "https://localhost:8080/"
        },
        "id": "jl8e7NsqEeAi",
        "outputId": "3c41dc7c-5ac6-4fca-8534-ec62d0c30ab3"
      },
      "execution_count": 39,
      "outputs": [
        {
          "output_type": "stream",
          "name": "stdout",
          "text": [
            "[0. 1. 1. 0. 1. 0. 1. 1. 1. 1. 1. 1. 0. 1. 1. 1. 1. 1. 1. 1. 1. 0. 0. 1.\n",
            " 1. 1. 1. 1. 0. 1. 0. 1. 1. 0. 0. 0. 0. 0. 0. 1. 1. 0. 0. 1. 0. 0. 0. 1.\n",
            " 0. 1. 0. 1. 1. 1. 1. 0. 0. 1. 0. 1. 1. 1. 0. 0. 1. 1. 1. 1. 1. 1. 1. 1.\n",
            " 0. 1. 1. 0. 0. 0. 1. 1. 0. 0. 1. 0. 0. 0. 1. 1. 0. 1. 0. 0. 1. 0. 1. 1.\n",
            " 1. 0. 1. 1. 1. 1. 1. 0. 1. 1. 0. 0. 1. 1. 0. 1. 1. 1. 1. 1. 1. 1. 0. 0.\n",
            " 1. 0. 1. 1. 0. 0. 1. 1. 1. 1. 1. 0. 0. 1. 1. 0. 0. 0. 1. 0. 0. 1. 0. 0.\n",
            " 1. 0. 0. 0. 1. 1. 1. 0. 1. 1. 1. 0. 0. 1. 0. 1. 1. 1. 1. 0. 1. 0. 1. 0.\n",
            " 1. 1. 0. 0. 1. 0. 1. 1. 1. 1. 0. 1. 0. 1. 1. 1. 1. 1. 0. 0. 1. 1. 1. 1.\n",
            " 1. 1. 1. 1. 0. 0. 1. 1.]\n"
          ]
        }
      ]
    },
    {
      "cell_type": "code",
      "source": [
        ""
      ],
      "metadata": {
        "id": "QwnMZ5ENEhkG"
      },
      "execution_count": null,
      "outputs": []
    }
  ]
}