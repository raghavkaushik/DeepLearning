{
  "nbformat": 4,
  "nbformat_minor": 0,
  "metadata": {
    "colab": {
      "name": "CNN : CIFAR 100.ipynb",
      "provenance": [],
      "authorship_tag": "ABX9TyP9wAM+lwG2UaNlCuctJkpn",
      "include_colab_link": true
    },
    "kernelspec": {
      "name": "python3",
      "display_name": "Python 3"
    },
    "language_info": {
      "name": "python"
    }
  },
  "cells": [
    {
      "cell_type": "markdown",
      "metadata": {
        "id": "view-in-github",
        "colab_type": "text"
      },
      "source": [
        "<a href=\"https://colab.research.google.com/github/raghavkaushik/DeepLearning/blob/main/CNN_CIFAR_100.ipynb\" target=\"_parent\"><img src=\"https://colab.research.google.com/assets/colab-badge.svg\" alt=\"Open In Colab\"/></a>"
      ]
    },
    {
      "cell_type": "code",
      "execution_count": 11,
      "metadata": {
        "id": "7AHlWS3O72hi"
      },
      "outputs": [],
      "source": [
        "import tensorflow as tf\n",
        "from tensorflow.keras.models import Model\n",
        "from tensorflow.keras.layers import Conv2D, Dense, Dropout, GlobalMaxPooling2D, Input\n",
        "from sklearn.metrics import confusion_matrix\n",
        "import matplotlib.pyplot as plt\n",
        "import numpy as np"
      ]
    },
    {
      "cell_type": "code",
      "source": [
        "cifar=tf.keras.datasets.cifar100"
      ],
      "metadata": {
        "id": "lPxu3OFk-dag"
      },
      "execution_count": 3,
      "outputs": []
    },
    {
      "cell_type": "code",
      "source": [
        "(Xtrain,Ytrain),(Xtest,Ytest)=cifar.load_data()"
      ],
      "metadata": {
        "colab": {
          "base_uri": "https://localhost:8080/"
        },
        "id": "qIketpA--n2N",
        "outputId": "f8443e9a-986c-43a8-e5a8-4b5e7285eecc"
      },
      "execution_count": 4,
      "outputs": [
        {
          "output_type": "stream",
          "name": "stdout",
          "text": [
            "Downloading data from https://www.cs.toronto.edu/~kriz/cifar-100-python.tar.gz\n",
            "169009152/169001437 [==============================] - 11s 0us/step\n",
            "169017344/169001437 [==============================] - 11s 0us/step\n"
          ]
        }
      ]
    },
    {
      "cell_type": "code",
      "source": [
        "#it is easiers for tf to calculate \n",
        "Xtrain,Xtest=Xtrain/255.0, Xtest/255.0\n",
        "Xtrain.shape"
      ],
      "metadata": {
        "colab": {
          "base_uri": "https://localhost:8080/"
        },
        "id": "6VaH1N6R-tMG",
        "outputId": "a6cd4e95-5a7f-4f53-f206-a8be9e0f36b1"
      },
      "execution_count": 7,
      "outputs": [
        {
          "output_type": "execute_result",
          "data": {
            "text/plain": [
              "(50000, 32, 32, 3)"
            ]
          },
          "metadata": {},
          "execution_count": 7
        }
      ]
    },
    {
      "cell_type": "code",
      "source": [
        "Ytrain,Ytest=Ytrain.flatten(),Ytest.flatten()\n",
        "print(Ytrain.shape)"
      ],
      "metadata": {
        "colab": {
          "base_uri": "https://localhost:8080/"
        },
        "id": "-W-b4P-S-uw2",
        "outputId": "897a7cea-dc2c-4f4f-ca1f-b35f3be6322a"
      },
      "execution_count": 8,
      "outputs": [
        {
          "output_type": "stream",
          "name": "stdout",
          "text": [
            "(50000,)\n"
          ]
        }
      ]
    },
    {
      "cell_type": "code",
      "source": [
        "k=len(set(Ytrain))\n",
        "print(\"No of items in data:\",k)"
      ],
      "metadata": {
        "colab": {
          "base_uri": "https://localhost:8080/"
        },
        "id": "K0HKwSMG-w2d",
        "outputId": "9857294f-affd-4f99-ed25-f039eda3bf24"
      },
      "execution_count": 10,
      "outputs": [
        {
          "output_type": "stream",
          "name": "stdout",
          "text": [
            "No of items in data: 100\n"
          ]
        }
      ]
    },
    {
      "cell_type": "code",
      "source": [
        "i=Input(shape=(Xtrain[0].shape))\n",
        "x=Conv2D(32,(3,3),strides=2, activation='relu')(i)\n",
        "x=Conv2D(64,(3,3),strides=2, activation='relu')(x)\n",
        "x=Conv2D(128,(3,3),strides=2, activation='relu')(x)\n",
        "x=GlobalMaxPooling2D()(x)\n",
        "x=Dropout(0.2)(x)\n",
        "x=Dense(1024,activation='relu')(x)\n",
        "x=Dropout(0.2)(x)\n",
        "x=Dense(k,activation='softmax')(x)\n",
        "\n",
        "model=Model(i,x)"
      ],
      "metadata": {
        "id": "vuDO37_p_OiX"
      },
      "execution_count": 13,
      "outputs": []
    },
    {
      "cell_type": "code",
      "source": [
        "model.compile(optimizer='adam',\n",
        "              loss='sparse_categorical_crossentropy',\n",
        "              metrics=['accuracy'])\n",
        "r=model.fit(Xtrain,Ytrain,validation_data=(Xtest,Ytest), epochs=25)"
      ],
      "metadata": {
        "colab": {
          "base_uri": "https://localhost:8080/"
        },
        "id": "_IWxsVYJ_a5e",
        "outputId": "6fa0dfb2-c1f4-4a7f-9107-161733eebbc7"
      },
      "execution_count": 15,
      "outputs": [
        {
          "output_type": "stream",
          "name": "stdout",
          "text": [
            "Epoch 1/25\n",
            "1563/1563 [==============================] - 59s 37ms/step - loss: 3.9967 - accuracy: 0.0784 - val_loss: 3.6482 - val_accuracy: 0.1372\n",
            "Epoch 2/25\n",
            "1563/1563 [==============================] - 55s 36ms/step - loss: 3.5314 - accuracy: 0.1537 - val_loss: 3.3426 - val_accuracy: 0.1917\n",
            "Epoch 3/25\n",
            "1563/1563 [==============================] - 59s 38ms/step - loss: 3.3150 - accuracy: 0.1913 - val_loss: 3.1575 - val_accuracy: 0.2324\n",
            "Epoch 4/25\n",
            "1563/1563 [==============================] - 60s 38ms/step - loss: 3.1628 - accuracy: 0.2190 - val_loss: 3.0718 - val_accuracy: 0.2460\n",
            "Epoch 5/25\n",
            "1563/1563 [==============================] - 63s 40ms/step - loss: 3.0393 - accuracy: 0.2435 - val_loss: 2.9753 - val_accuracy: 0.2637\n",
            "Epoch 6/25\n",
            "1563/1563 [==============================] - 56s 36ms/step - loss: 2.9359 - accuracy: 0.2656 - val_loss: 2.9206 - val_accuracy: 0.2746\n",
            "Epoch 7/25\n",
            "1563/1563 [==============================] - 56s 36ms/step - loss: 2.8606 - accuracy: 0.2794 - val_loss: 2.8478 - val_accuracy: 0.2929\n",
            "Epoch 8/25\n",
            "1563/1563 [==============================] - 57s 37ms/step - loss: 2.7904 - accuracy: 0.2905 - val_loss: 2.8449 - val_accuracy: 0.2926\n",
            "Epoch 9/25\n",
            "1563/1563 [==============================] - 47s 30ms/step - loss: 2.7236 - accuracy: 0.3029 - val_loss: 2.8237 - val_accuracy: 0.2982\n",
            "Epoch 10/25\n",
            "1563/1563 [==============================] - 40s 25ms/step - loss: 2.6549 - accuracy: 0.3154 - val_loss: 2.7767 - val_accuracy: 0.3068\n",
            "Epoch 11/25\n",
            "1563/1563 [==============================] - 42s 27ms/step - loss: 2.6186 - accuracy: 0.3235 - val_loss: 2.7963 - val_accuracy: 0.3061\n",
            "Epoch 12/25\n",
            "1563/1563 [==============================] - 39s 25ms/step - loss: 2.5666 - accuracy: 0.3341 - val_loss: 2.7842 - val_accuracy: 0.3128\n",
            "Epoch 13/25\n",
            "1563/1563 [==============================] - 40s 25ms/step - loss: 2.5183 - accuracy: 0.3428 - val_loss: 2.7357 - val_accuracy: 0.3152\n",
            "Epoch 14/25\n",
            "1563/1563 [==============================] - 38s 24ms/step - loss: 2.4738 - accuracy: 0.3523 - val_loss: 2.7200 - val_accuracy: 0.3185\n",
            "Epoch 15/25\n",
            "1563/1563 [==============================] - 37s 24ms/step - loss: 2.4418 - accuracy: 0.3587 - val_loss: 2.7246 - val_accuracy: 0.3175\n",
            "Epoch 16/25\n",
            "1563/1563 [==============================] - 37s 23ms/step - loss: 2.4018 - accuracy: 0.3665 - val_loss: 2.7219 - val_accuracy: 0.3172\n",
            "Epoch 17/25\n",
            "1563/1563 [==============================] - 37s 24ms/step - loss: 2.3587 - accuracy: 0.3736 - val_loss: 2.7365 - val_accuracy: 0.3165\n",
            "Epoch 18/25\n",
            "1563/1563 [==============================] - 40s 26ms/step - loss: 2.3278 - accuracy: 0.3801 - val_loss: 2.7238 - val_accuracy: 0.3211\n",
            "Epoch 19/25\n",
            "1563/1563 [==============================] - 40s 26ms/step - loss: 2.2993 - accuracy: 0.3871 - val_loss: 2.6957 - val_accuracy: 0.3343\n",
            "Epoch 20/25\n",
            "1563/1563 [==============================] - 39s 25ms/step - loss: 2.2722 - accuracy: 0.3927 - val_loss: 2.7162 - val_accuracy: 0.3302\n",
            "Epoch 21/25\n",
            "1563/1563 [==============================] - 38s 24ms/step - loss: 2.2409 - accuracy: 0.4000 - val_loss: 2.7056 - val_accuracy: 0.3289\n",
            "Epoch 22/25\n",
            "1563/1563 [==============================] - 37s 24ms/step - loss: 2.2234 - accuracy: 0.4029 - val_loss: 2.7394 - val_accuracy: 0.3217\n",
            "Epoch 23/25\n",
            "1563/1563 [==============================] - 39s 25ms/step - loss: 2.1846 - accuracy: 0.4116 - val_loss: 2.7436 - val_accuracy: 0.3167\n",
            "Epoch 24/25\n",
            "1563/1563 [==============================] - 38s 24ms/step - loss: 2.1696 - accuracy: 0.4142 - val_loss: 2.7494 - val_accuracy: 0.3196\n",
            "Epoch 25/25\n",
            "1563/1563 [==============================] - 38s 24ms/step - loss: 2.1483 - accuracy: 0.4180 - val_loss: 2.7624 - val_accuracy: 0.3208\n"
          ]
        }
      ]
    },
    {
      "cell_type": "code",
      "source": [
        "plt.plot(r.history['loss'], label='loss')\n",
        "plt.plot(r.history['val_loss'], label='val_loss')\n",
        "plt.legend()"
      ],
      "metadata": {
        "colab": {
          "base_uri": "https://localhost:8080/",
          "height": 282
        },
        "id": "y2FpB4EnAclD",
        "outputId": "773c2bcc-67c1-4690-81e5-daa9034f33d3"
      },
      "execution_count": 17,
      "outputs": [
        {
          "output_type": "execute_result",
          "data": {
            "text/plain": [
              "<matplotlib.legend.Legend at 0x7f69009da3d0>"
            ]
          },
          "metadata": {},
          "execution_count": 17
        },
        {
          "output_type": "display_data",
          "data": {
            "image/png": "[encoded data removed]",
            "text/plain": [
              "<Figure size 432x288 with 1 Axes>"
            ]
          },
          "metadata": {
            "needs_background": "light"
          }
        }
      ]
    },
    {
      "cell_type": "code",
      "source": [
        "plt.plot(r.history['accuracy'], label='accuracy')\n",
        "plt.plot(r.history['val_accuracy'], label='val_accuracy')\n",
        "plt.legend()"
      ],
      "metadata": {
        "colab": {
          "base_uri": "https://localhost:8080/",
          "height": 282
        },
        "id": "OtKzL8JKAt2x",
        "outputId": "00b98db1-c9cc-443f-b15b-2853d6e2876d"
      },
      "execution_count": 18,
      "outputs": [
        {
          "output_type": "execute_result",
          "data": {
            "text/plain": [
              "<matplotlib.legend.Legend at 0x7f69009b2c90>"
            ]
          },
          "metadata": {},
          "execution_count": 18
        },
        {
          "output_type": "display_data",
          "data": {
            "image/png": "[encoded data removed]",
            "text/plain": [
              "<Figure size 432x288 with 1 Axes>"
            ]
          },
          "metadata": {
            "needs_background": "light"
          }
        }
      ]
    },
    {
      "cell_type": "code",
      "source": [
        "pred=model.predict(Xtest).argmax(axis=1)"
      ],
      "metadata": {
        "id": "3qoDLq4yAzxH"
      },
      "execution_count": 19,
      "outputs": []
    },
    {
      "cell_type": "code",
      "source": [
        "print(confusion_matrix(pred,Ytest))"
      ],
      "metadata": {
        "colab": {
          "base_uri": "https://localhost:8080/"
        },
        "id": "Wp75B8RaA6ze",
        "outputId": "e984fddb-f3fd-497c-8d04-4d82af477312"
      },
      "execution_count": 20,
      "outputs": [
        {
          "output_type": "stream",
          "name": "stdout",
          "text": [
            "[[50  0  0 ...  0  0  0]\n",
            " [ 2 49  2 ...  0  2  1]\n",
            " [ 1  0 33 ...  0  6  1]\n",
            " ...\n",
            " [ 0  2  0 ... 20  0  0]\n",
            " [ 0  0  2 ...  1  9  1]\n",
            " [ 0  0  0 ...  0  0 23]]\n"
          ]
        }
      ]
    },
    {
      "cell_type": "code",
      "source": [
        ""
      ],
      "metadata": {
        "id": "jWV-Vub8F-9m"
      },
      "execution_count": null,
      "outputs": []
    }
  ]
}