{
  "nbformat": 4,
  "nbformat_minor": 0,
  "metadata": {
    "colab": {
      "name": "TF: Y Model.ipynb",
      "provenance": [],
      "authorship_tag": "ABX9TyPYg8V9D14iuTQ+Xl/cGjXN",
      "include_colab_link": true
    },
    "kernelspec": {
      "name": "python3",
      "display_name": "Python 3"
    },
    "language_info": {
      "name": "python"
    }
  },
  "cells": [
    {
      "cell_type": "markdown",
      "metadata": {
        "id": "view-in-github",
        "colab_type": "text"
      },
      "source": [
        "<a href=\"https://colab.research.google.com/github/raghavkaushik/DeepLearning/blob/main/TF_Y_Model.ipynb\" target=\"_parent\"><img src=\"https://colab.research.google.com/assets/colab-badge.svg\" alt=\"Open In Colab\"/></a>"
      ]
    },
    {
      "cell_type": "code",
      "execution_count": 13,
      "metadata": {
        "id": "Gm9troWQHTLy"
      },
      "outputs": [],
      "source": [
        "from tensorflow.keras.layers import Dense, Conv2D, GlobalMaxPooling2D, Dropout, Input, concatenate, MaxPooling2D, Flatten\n",
        "from tensorflow.keras.models import Model\n",
        "from tensorflow.keras.datasets import mnist\n",
        "import numpy as np\n",
        "import matplotlib.pyplot as plt"
      ]
    },
    {
      "cell_type": "code",
      "source": [
        "(Xtrain,Ytrain),(Xtest,Ytest)=mnist.load_data()"
      ],
      "metadata": {
        "colab": {
          "base_uri": "https://localhost:8080/"
        },
        "id": "bDETR23xI4wn",
        "outputId": "c5a2b5d4-b99d-4670-d88d-fce956f4b7c3"
      },
      "execution_count": 2,
      "outputs": [
        {
          "output_type": "stream",
          "name": "stdout",
          "text": [
            "Downloading data from https://storage.googleapis.com/tensorflow/tf-keras-datasets/mnist.npz\n",
            "11493376/11490434 [==============================] - 0s 0us/step\n",
            "11501568/11490434 [==============================] - 0s 0us/step\n"
          ]
        }
      ]
    },
    {
      "cell_type": "code",
      "source": [
        "num_labels=len(np.unique(Ytrain))\n",
        "print(\"Number of labels:\",num_labels)"
      ],
      "metadata": {
        "colab": {
          "base_uri": "https://localhost:8080/"
        },
        "id": "BW15CjBDI8TG",
        "outputId": "df7d38b2-629e-4d27-c6e9-3dcdab06e143"
      },
      "execution_count": 3,
      "outputs": [
        {
          "output_type": "stream",
          "name": "stdout",
          "text": [
            "Number of labels: 10\n"
          ]
        }
      ]
    },
    {
      "cell_type": "code",
      "source": [
        "Xtrain,Xtest=Xtrain/255.0,Xtest/255.0\n",
        "Xtrain=np.expand_dims(Xtrain,-1)\n",
        "Xtest=np.expand_dims(Xtest,-1)"
      ],
      "metadata": {
        "id": "W3T79fZ8I9uX"
      },
      "execution_count": 4,
      "outputs": []
    },
    {
      "cell_type": "code",
      "source": [
        "input_shape=Xtrain[0].shape\n",
        "print(input_shape)"
      ],
      "metadata": {
        "colab": {
          "base_uri": "https://localhost:8080/"
        },
        "id": "i1nZvF2-JAzP",
        "outputId": "4c083d0b-ee91-4ac1-ba37-43f1b12a7088"
      },
      "execution_count": 5,
      "outputs": [
        {
          "output_type": "stream",
          "name": "stdout",
          "text": [
            "(28, 28, 1)\n"
          ]
        }
      ]
    },
    {
      "cell_type": "code",
      "source": [
        "left_input=Input(shape=input_shape)\n",
        "filters=32\n",
        "for i in range(3):\n",
        "  x=Conv2D(filters,(3,3), padding='same', activation='relu')(left_input)\n",
        "  x=Dropout(0.2)(x)\n",
        "  x=MaxPooling2D()(x)\n",
        "  filters*=2\n",
        "\n",
        "right_input=Input(shape=input_shape)\n",
        "filters=32\n",
        "for i in range(3):\n",
        "  y=Conv2D(filters,(3,3), padding='same', activation='relu')(right_input)\n",
        "  y=Dropout(0.2)(y)\n",
        "  y=MaxPooling2D()(y)\n",
        "  filters*=2\n",
        "\n",
        "y=concatenate([x,y])\n",
        "y=Flatten()(y)\n",
        "y=Dropout(0.2)(y)\n",
        "output=Dense(num_labels, activation='softmax')(y)\n",
        "\n",
        "model=Model([left_input,right_input], output)\n"
      ],
      "metadata": {
        "id": "-bhP2alJJC5H"
      },
      "execution_count": 14,
      "outputs": []
    },
    {
      "cell_type": "code",
      "source": [
        "model.summary()"
      ],
      "metadata": {
        "colab": {
          "base_uri": "https://localhost:8080/"
        },
        "id": "WehVKkBSKYvR",
        "outputId": "0236151c-886c-4fca-cfa2-bf6901babb05"
      },
      "execution_count": 15,
      "outputs": [
        {
          "output_type": "stream",
          "name": "stdout",
          "text": [
            "Model: \"model\"\n",
            "__________________________________________________________________________________________________\n",
            " Layer (type)                   Output Shape         Param #     Connected to                     \n",
            "==================================================================================================\n",
            " input_10 (InputLayer)          [(None, 28, 28, 1)]  0           []                               \n",
            "                                                                                                  \n",
            " input_11 (InputLayer)          [(None, 28, 28, 1)]  0           []                               \n",
            "                                                                                                  \n",
            " conv2d_29 (Conv2D)             (None, 28, 28, 128)  1280        ['input_10[0][0]']               \n",
            "                                                                                                  \n",
            " conv2d_32 (Conv2D)             (None, 28, 28, 128)  1280        ['input_11[0][0]']               \n",
            "                                                                                                  \n",
            " dropout_30 (Dropout)           (None, 28, 28, 128)  0           ['conv2d_29[0][0]']              \n",
            "                                                                                                  \n",
            " dropout_33 (Dropout)           (None, 28, 28, 128)  0           ['conv2d_32[0][0]']              \n",
            "                                                                                                  \n",
            " max_pooling2d_29 (MaxPooling2D  (None, 14, 14, 128)  0          ['dropout_30[0][0]']             \n",
            " )                                                                                                \n",
            "                                                                                                  \n",
            " max_pooling2d_32 (MaxPooling2D  (None, 14, 14, 128)  0          ['dropout_33[0][0]']             \n",
            " )                                                                                                \n",
            "                                                                                                  \n",
            " concatenate_3 (Concatenate)    (None, 14, 14, 256)  0           ['max_pooling2d_29[0][0]',       \n",
            "                                                                  'max_pooling2d_32[0][0]']       \n",
            "                                                                                                  \n",
            " flatten_1 (Flatten)            (None, 50176)        0           ['concatenate_3[0][0]']          \n",
            "                                                                                                  \n",
            " dropout_34 (Dropout)           (None, 50176)        0           ['flatten_1[0][0]']              \n",
            "                                                                                                  \n",
            " dense (Dense)                  (None, 10)           501770      ['dropout_34[0][0]']             \n",
            "                                                                                                  \n",
            "==================================================================================================\n",
            "Total params: 504,330\n",
            "Trainable params: 504,330\n",
            "Non-trainable params: 0\n",
            "__________________________________________________________________________________________________\n"
          ]
        }
      ]
    },
    {
      "cell_type": "code",
      "source": [
        "model.compile(optimizer='adam',\n",
        "              loss='sparse_categorical_crossentropy',\n",
        "              metrics=['accuracy'])\n",
        "\n",
        "r=model.fit([Xtrain, Xtrain],Ytrain,validation_data=([Xtest,Xtest],Ytest),epochs=20, batch_size=32)"
      ],
      "metadata": {
        "colab": {
          "base_uri": "https://localhost:8080/"
        },
        "id": "tb3O71FpK_cD",
        "outputId": "8e1e2e6a-db77-4209-e6d5-8a734a347040"
      },
      "execution_count": null,
      "outputs": [
        {
          "output_type": "stream",
          "name": "stdout",
          "text": [
            "Epoch 1/20\n",
            "1875/1875 [==============================] - 283s 151ms/step - loss: 0.1363 - accuracy: 0.9591 - val_loss: 0.0760 - val_accuracy: 0.9763\n",
            "Epoch 2/20\n",
            "1875/1875 [==============================] - 281s 150ms/step - loss: 0.0600 - accuracy: 0.9823 - val_loss: 0.0498 - val_accuracy: 0.9845\n",
            "Epoch 3/20\n",
            "1875/1875 [==============================] - 283s 151ms/step - loss: 0.0453 - accuracy: 0.9862 - val_loss: 0.0494 - val_accuracy: 0.9837\n",
            "Epoch 4/20\n",
            "1875/1875 [==============================] - 283s 151ms/step - loss: 0.0352 - accuracy: 0.9887 - val_loss: 0.0504 - val_accuracy: 0.9861\n",
            "Epoch 5/20\n",
            "1875/1875 [==============================] - 281s 150ms/step - loss: 0.0282 - accuracy: 0.9904 - val_loss: 0.0530 - val_accuracy: 0.9829\n",
            "Epoch 6/20\n",
            "1875/1875 [==============================] - 280s 150ms/step - loss: 0.0225 - accuracy: 0.9926 - val_loss: 0.0563 - val_accuracy: 0.9834\n",
            "Epoch 7/20\n",
            "1875/1875 [==============================] - 280s 149ms/step - loss: 0.0191 - accuracy: 0.9935 - val_loss: 0.0548 - val_accuracy: 0.9840\n",
            "Epoch 8/20\n",
            "1875/1875 [==============================] - 280s 149ms/step - loss: 0.0154 - accuracy: 0.9949 - val_loss: 0.0543 - val_accuracy: 0.9852\n",
            "Epoch 9/20\n",
            "1875/1875 [==============================] - 280s 149ms/step - loss: 0.0136 - accuracy: 0.9952 - val_loss: 0.0590 - val_accuracy: 0.9843\n",
            "Epoch 10/20\n",
            "1025/1875 [===============>..............] - ETA: 2:04 - loss: 0.0120 - accuracy: 0.9958"
          ]
        }
      ]
    },
    {
      "cell_type": "code",
      "source": [
        "score = model.evaluate([x_test, x_test],\n",
        "                       y_test,\n",
        "                       batch_size=batch_size,\n",
        "                       verbose=0)\n",
        "print(\"\\nTest accuracy: %.1f%%\" % (100.0 * score[1]))"
      ],
      "metadata": {
        "id": "qst9hosKLLYv"
      },
      "execution_count": null,
      "outputs": []
    }
  ]
}